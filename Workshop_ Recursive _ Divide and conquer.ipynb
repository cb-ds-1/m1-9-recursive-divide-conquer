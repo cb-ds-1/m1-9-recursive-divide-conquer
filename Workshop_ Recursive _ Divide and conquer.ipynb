{
 "cells": [
  {
   "cell_type": "markdown",
   "metadata": {
    "colab_type": "text",
    "id": "Bj-Gi0QlUfyL"
   },
   "source": [
    "# Exercise 1.\n",
    "\n",
    "Although merge sort has a better Big-O than selection sort, selection sort can be faster for smaller inputs.\n",
    "\n",
    "Rewrite `merge_sort(A, min_size)` such that sub-arrays smaller than an input parameter `min_size` are sorted with our `selection_sort` from the lecture `algorithms intro`.\n",
    "\n",
    "Time the difference between pure merge sort and this new algorithm. Is it faster? Why or why not?"
   ]
  },
  {
   "cell_type": "code",
   "execution_count": 2,
   "metadata": {},
   "outputs": [
    {
     "data": {
      "text/plain": [
       "[-232, -4, 1, 2, 33, 53, 55, 344, 923, 2343]"
      ]
     },
     "execution_count": 2,
     "metadata": {},
     "output_type": "execute_result"
    }
   ],
   "source": [
    "def selection_sort(arr):\n",
    "  \n",
    "    for j in range(len(arr)):\n",
    "        for i in range(len(arr)):\n",
    "\n",
    "            if i != (len(arr) - 1):\n",
    "                a = arr[i]\n",
    "                b = arr[i + 1]\n",
    "\n",
    "                if a > b:\n",
    "                    arr[i] = b\n",
    "                    arr[i + 1] = a\n",
    "\n",
    "    return arr\n",
    "\n",
    "def merge(left, right):\n",
    "    \n",
    "    merged = []\n",
    "    \n",
    "    for i in range(len(left)):\n",
    "        \n",
    "        merged.append(left.pop(0))\n",
    "        \n",
    "    for i in range(len(right)):\n",
    "\n",
    "        merged.append(right.pop(0))\n",
    "\n",
    "    for i in range(len(merged)):\n",
    "        \n",
    "        for j in range(len(merged)):\n",
    "            \n",
    "            if j < (len(merged) - 1):\n",
    "                \n",
    "                a = merged[j]\n",
    "                b = merged[j + 1]\n",
    "                \n",
    "                if a > b:\n",
    "                    \n",
    "                    merged[j] = b\n",
    "                    merged[j + 1] = a\n",
    "    return merged\n",
    "\n",
    "\n",
    "def merge_sort(A, min_size): \n",
    "    \n",
    "    size = len(A)\n",
    "    \n",
    "    if size > 1:\n",
    "        \n",
    "        m = size // 2\n",
    "        \n",
    "        left = A[m:]\n",
    "        right = A[:m]\n",
    "        \n",
    "        if len(left) < min_size:\n",
    "            left = selection_sort(left)\n",
    "        else:\n",
    "            left = merge_sort(left, min_size)\n",
    "        \n",
    "        if len(right) < min_size:\n",
    "            right = selection_sort(right)\n",
    "        else:\n",
    "            right = merge_sort(right, min_size)\n",
    "            \n",
    "        return merge(left, right)\n",
    "    \n",
    "    else:\n",
    "        return A\n",
    "    \n",
    "merge_sort([33, 1, 55, 2343, -232, 344, 2, 53, -4, 923], 3)"
   ]
  },
  {
   "cell_type": "code",
   "execution_count": null,
   "metadata": {},
   "outputs": [],
   "source": []
  },
  {
   "cell_type": "code",
   "execution_count": null,
   "metadata": {},
   "outputs": [],
   "source": []
  },
  {
   "cell_type": "markdown",
   "metadata": {
    "colab": {},
    "colab_type": "code",
    "id": "_xlEp7VWWkLL"
   },
   "source": [
    "# Exercise 2. \n",
    "\n",
    "Let $A[1...n]$ be an array of $n$ distinct numbers. If $i < j$ and $A[i] > A[j]$, then the pair $(i, j)$ is called an **inversion** of $A$. \n",
    "\n",
    "In other words an inversion is a pair of unsorted elements in an array.\n",
    "\n",
    "**1)** List the five inversions of $[2, 3, 8, 6, 1]$ \n",
    "\n",
    "**2)** Give an algorithm that determines the number of inversions in any permutation on $n$ elements in $O(nlog_2(n))$ worst-case time. (Hint: Modify merge sort.)"
   ]
  },
  {
   "cell_type": "code",
   "execution_count": 4,
   "metadata": {},
   "outputs": [
    {
     "data": {
      "text/plain": [
       "81"
      ]
     },
     "execution_count": 4,
     "metadata": {},
     "output_type": "execute_result"
    }
   ],
   "source": [
    "def recursive_pow(n1, n2):\n",
    "\n",
    "    if n2 != 0:\n",
    "        \n",
    "        n2 -= 1\n",
    "        n1 = n1 * recursive_pow(n1, n2)\n",
    "        return n1\n",
    "        \n",
    "    else:\n",
    "        return 1\n",
    "    \n",
    "recursive_pow(3, 4)"
   ]
  },
  {
   "cell_type": "code",
   "execution_count": 5,
   "metadata": {},
   "outputs": [
    {
     "name": "stdout",
     "output_type": "stream",
     "text": [
      "5\n"
     ]
    }
   ],
   "source": [
    "def count_inversion(lst):\n",
    "    return merge_count_inversion(lst)[1]\n",
    "\n",
    "def merge_count_inversion(lst):\n",
    "    if len(lst) <= 1:\n",
    "        return lst, 0\n",
    "    middle = int( len(lst) / 2 )\n",
    "    left, a = merge_count_inversion(lst[:middle])\n",
    "    right, b = merge_count_inversion(lst[middle:])\n",
    "    result, c = merge_split_inversion(left, right)\n",
    "    return result, (a + b + c)\n",
    "\n",
    "def merge_split_inversion(left, right):\n",
    "    result = []\n",
    "    count = 0 \n",
    "    i, j = 0, 0\n",
    "    left_len = len(left)\n",
    "    while i < left_len and j < len(right):\n",
    "        if left[i] <= right[j]:\n",
    "            result.append(left[i])\n",
    "            i += 1\n",
    "        else:\n",
    "            result.append(right[j])\n",
    "            count += left_len - i \n",
    "            j += 1\n",
    "    result += left[i:]\n",
    "    result += left[j:]\n",
    "    return result, count\n",
    "\n",
    "\n",
    "l = [2,3,8,6,1]\n",
    "\n",
    "print(count_inversion(l))"
   ]
  },
  {
   "cell_type": "markdown",
   "metadata": {
    "colab": {},
    "colab_type": "code",
    "id": "7DHNJtvOUkgo"
   },
   "source": [
    "# 3. Recursive sum\n",
    "\n",
    "Write a function that uses recursion to compute the sum of an array or list of numbers\n",
    "\n",
    "```\n",
    "recursive_sum([2, 4, 5, 6, 7])\n",
    "\n",
    "output: 24\n",
    "```"
   ]
  },
  {
   "cell_type": "code",
   "execution_count": 3,
   "metadata": {},
   "outputs": [
    {
     "name": "stdout",
     "output_type": "stream",
     "text": [
      "24\n",
      "80\n"
     ]
    }
   ],
   "source": [
    "def recursive_sum(lst):\n",
    "    if lst == []:\n",
    "        return 0\n",
    "    else:\n",
    "        head = lst[0]\n",
    "        lst2 = lst[1:]\n",
    "        return lst[0]+recursive_sum(lst2)\n",
    "print(recursive_sum([2, 4, 5, 6, 7]))\n",
    "print(recursive_sum([2, 4, 8, 61,5]))"
   ]
  },
  {
   "cell_type": "markdown",
   "metadata": {},
   "source": [
    "# 4. Recursive denominators\n",
    "\n",
    "Write a Python program that uses recursion to find the greatest common divisor (gcd) of two integers.\n",
    "\n",
    "```\n",
    "recursive_gcd(12,14)\n",
    "\n",
    "output : 2\n",
    "```"
   ]
  },
  {
   "cell_type": "code",
   "execution_count": null,
   "metadata": {},
   "outputs": [],
   "source": [
    "def recursive_gcd(num1,num2):\n",
    "    lower_number1 = min(num1,num2)\n",
    "    higher_number2 = max(num1,num2)\n",
    "    if lower_number1 == 0:\n",
    "        return higher_number2\n",
    "    if higher_number2 > lower_number1:\n",
    "        low_num1 = higher_number2%lower_number1\n",
    "        high_num2 = lower_number1\n",
    "        return recursive_gcd(low_num1,high_num2)\n",
    "print(recursive_gcd(1701,3768))\n",
    "print(recursive_gcd(12,14))\n",
    "print(recursive_gcd(1200,150))"
   ]
  },
  {
   "cell_type": "markdown",
   "metadata": {},
   "source": [
    "# 5. Recursive power function\n",
    "\n",
    "Write a recursive function to calculate the value of 'a' to the power 'b'. \n",
    "\n",
    "```\n",
    "recursive_pow(3, 4)\n",
    "\n",
    "output: 81\n",
    "```"
   ]
  },
  {
   "cell_type": "code",
   "execution_count": null,
   "metadata": {},
   "outputs": [],
   "source": [
    "def recursive_pow(n1, n2):\n",
    "\n",
    "    if n2 != 0:\n",
    "        \n",
    "        n2 -= 1\n",
    "        n1 = n1 * recursive_pow(n1, n2)\n",
    "        return n1\n",
    "        \n",
    "    else:\n",
    "        return 1\n",
    "    \n",
    "recursive_pow(3, 4)"
   ]
  },
  {
   "cell_type": "markdown",
   "metadata": {},
   "source": [
    "# 6. (Stretch) K-Nearest Neighbours\n",
    "\n",
    "Consider a matrix with the following format:\n",
    "\n",
    "```\n",
    "[[0.3, 0.8],\n",
    " [-0.2, 0.5],\n",
    " [1, -1],\n",
    " [0.9, 0.5]\n",
    "]\n",
    "```\n",
    "\n",
    "Each row denotes a point, and the numbers in each row are the coordinates. The coordinates in this example are in 2d, but the matrix could be in 3d (3 numbers per row) or even higher dimensions.\n",
    "\n",
    "Your task is to write a function `knn(m, p)` or `k_nearest_neighbors(m, p, k)` which takes in a matrix of points `m`, an integer `p` denoting the index of a point in that matrix, and an intger `k` denoting the number of nearest neighbors to return.\n",
    "\n",
    "The function returns the index of the `k` nearest neighbors of the point `p` in the matrix `m`.\n",
    "\n",
    "```\n",
    "dataset = [[2.7810836,2.550537003,0],\n",
    "\t[1.465489372,2.362125076,0],\n",
    "\t[3.396561688,4.400293529,0],\n",
    "\t[1.38807019,1.850220317,0],\n",
    "\t[3.06407232,3.005305973,0],\n",
    "\t[7.627531214,2.759262235,1],\n",
    "\t[5.332441248,2.088626775,1],\n",
    "\t[6.922596716,1.77106367,1],\n",
    "\t[8.675418651,-0.242068655,1],\n",
    "\t[7.673756466,3.508563011,1]]\n",
    "\n",
    "knn(dataset, 0, 2)\n",
    "\n",
    "output : [4, 1]\n",
    "```\n",
    "\n",
    "You can use `from sklearn.neighbors import NearestNeighbors` to test your function"
   ]
  },
  {
   "cell_type": "code",
   "execution_count": null,
   "metadata": {},
   "outputs": [],
   "source": []
  }
 ],
 "metadata": {
  "colab": {
   "authorship_tag": "ABX9TyNlxxWG+wkjGmf/FynU0Azv",
   "collapsed_sections": [],
   "name": "Workshop: Recursive && Divide and conquer.ipynb",
   "provenance": []
  },
  "kernelspec": {
   "display_name": "Python 3",
   "language": "python",
   "name": "python3"
  },
  "language_info": {
   "codemirror_mode": {
    "name": "ipython",
    "version": 3
   },
   "file_extension": ".py",
   "mimetype": "text/x-python",
   "name": "python",
   "nbconvert_exporter": "python",
   "pygments_lexer": "ipython3",
   "version": "3.8.3"
  }
 },
 "nbformat": 4,
 "nbformat_minor": 1
}
