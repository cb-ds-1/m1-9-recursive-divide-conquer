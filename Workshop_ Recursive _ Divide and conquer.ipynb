{
 "cells": [
  {
   "cell_type": "markdown",
   "metadata": {
    "colab_type": "text",
    "id": "Bj-Gi0QlUfyL"
   },
   "source": [
    "# Exercise 1.\n",
    "\n",
    "Although merge sort has a better Big-O than selection sort, selection sort can be faster for smaller inputs.\n",
    "\n",
    "Rewrite `merge_sort(A, min_size)` such that sub-arrays smaller than an input parameter `min_size` are sorted with our `selection_sort` from the lecture `algorithms intro`.\n",
    "\n",
    "Time the difference between pure merge sort and this new algorithm. Is it faster? Why or why not?"
   ]
  },
  {
   "cell_type": "code",
   "execution_count": 53,
   "metadata": {},
   "outputs": [],
   "source": [
    "import numpy as np"
   ]
  },
  {
   "cell_type": "code",
   "execution_count": 54,
   "metadata": {},
   "outputs": [],
   "source": [
    "#Selection sort\n",
    "\n",
    "def linear_search(arr):\n",
    "  \"\"\"\n",
    "  Find the index of the minimum element\n",
    "  AKA argsort\n",
    "  \"\"\"\n",
    "  # initialize current best to +infinity\n",
    "  # So any element beats it\n",
    "  current_min = float('inf')\n",
    "  current_min_idx = 0\n",
    "  for i in range(len(arr)):\n",
    "    if arr[i] < current_min:\n",
    "      current_min = arr[i]\n",
    "      current_min_idx = i\n",
    "  return current_min_idx\n",
    "\n",
    "def selection_sort(arr):\n",
    "  \"\"\"Selection sort\"\"\"\n",
    "  n_sorted = 0\n",
    "  while n_sorted < len(arr):\n",
    "    # Get the index of the min of remaining elements\n",
    "    # Since argsort returns based on array, we correct result\n",
    "    # with `+ n_sorted`\n",
    "    min_idx = linear_search(arr[n_sorted:]) + n_sorted\n",
    "    # Swap minimum element with leftmost remaining element\n",
    "    to_swap = arr[n_sorted]\n",
    "    arr[n_sorted] = arr[min_idx]\n",
    "    arr[min_idx] = to_swap\n",
    "    # Increment and restart\n",
    "    n_sorted += 1\n",
    "  return arr\n",
    "\n"
   ]
  },
  {
   "cell_type": "code",
   "execution_count": 55,
   "metadata": {},
   "outputs": [],
   "source": [
    "#Merge 2 arrays\n",
    "\n",
    "def merge(left, right):\n",
    "  res = []\n",
    "  # Zip in together left and right parts\n",
    "  while len(left)>0 and len(right)>0: \n",
    "      if left[0]<right[0]: \n",
    "          res.append(left[0]) \n",
    "          left.pop(0)\n",
    "      else: \n",
    "          res.append(right[0]) \n",
    "          right.pop(0)\n",
    "  # Copy in remaining elements of left and right\n",
    "  # (if there are any)\n",
    "  for i in left: \n",
    "      res.append(i) \n",
    "  for i in right: \n",
    "      res.append(i)\n",
    "  return res"
   ]
  },
  {
   "cell_type": "code",
   "execution_count": 56,
   "metadata": {},
   "outputs": [],
   "source": [
    "#Merge sort without selection sort\n",
    "def merge_sort(A): \n",
    "    size = len(A)\n",
    "    if size > 1:\n",
    "        m = size // 2\n",
    "        left = merge_sort(A[m:]) \n",
    "        right = merge_sort(A[:m])\n",
    "        return merge(left, right)\n",
    "    else:\n",
    "        return A\n"
   ]
  },
  {
   "cell_type": "code",
   "execution_count": 57,
   "metadata": {},
   "outputs": [],
   "source": [
    "#Merge sort with selection sort\n",
    "def merge_selection_sort(A, min_size): \n",
    "    size = len(A)\n",
    "\n",
    "    if (len(A) > min_size):\n",
    "        m = size // 2\n",
    "        left = merge_selection_sort(A[m:], min_size) \n",
    "        right = merge_selection_sort(A[:m], min_size)\n",
    "        return merge(left, right)\n",
    "    else:\n",
    "        return selection_sort(A)\n"
   ]
  },
  {
   "cell_type": "code",
   "execution_count": 58,
   "metadata": {},
   "outputs": [
    {
     "name": "stdout",
     "output_type": "stream",
     "text": [
      "1.41 s ± 43.9 ms per loop (mean ± std. dev. of 7 runs, 1 loop each)\n",
      "1.43 s ± 240 ms per loop (mean ± std. dev. of 7 runs, 1 loop each)\n"
     ]
    }
   ],
   "source": [
    "a = np.random.randint(1,1000000,100000).tolist()\n",
    "%timeit -n 1 merge_sort(a)\n",
    "%timeit -n 1 merge_selection_sort(a,30)"
   ]
  },
  {
   "cell_type": "markdown",
   "metadata": {},
   "source": [
    "Question: \n",
    "\n",
    "Time the difference between pure merge sort and this new algorithm. Is it faster? Why or why not?\n",
    "\n",
    "Answer: \n",
    "\n",
    "It is expected for the merge sort with selection sort to be faster than the pure merge sort for a large array and a properly adjusted min_size. This behavior is expected since selection sort implemented on a small and on a somewhat ordered array may lead to a solution with less iterations compared to merging the two arrays with the function implemented with merge sort. However, a faster implementation of merge sort with selection sort does not seem to be a guarantee in all cases. "
   ]
  },
  {
   "cell_type": "markdown",
   "metadata": {
    "colab": {},
    "colab_type": "code",
    "id": "_xlEp7VWWkLL"
   },
   "source": [
    "# Exercise 2. \n",
    "\n",
    "Let $A[1...n]$ be an array of $n$ distinct numbers. If $i < j$ and $A[i] > A[j]$, then the pair $(i, j)$ is called an **inversion** of $A$. \n",
    "\n",
    "In other words an inversion is a pair of unsorted elements in an array.\n",
    "\n",
    "**1)** List the five inversions of $[2, 3, 8, 6, 1]$ \n",
    "\n",
    "**2)** Give an algorithm that determines the number of inversions in any permutation on $n$ elements in $O(nlog_2(n))$ worst-case time. (Hint: Modify merge sort.)"
   ]
  },
  {
   "cell_type": "code",
   "execution_count": 59,
   "metadata": {},
   "outputs": [
    {
     "data": {
      "text/plain": [
       "[(0, 4), (1, 4), (2, 3), (2, 4), (3, 4)]"
      ]
     },
     "execution_count": 59,
     "metadata": {},
     "output_type": "execute_result"
    }
   ],
   "source": [
    "#Exercise 2.1\n",
    "def find_inversion(array):\n",
    "    '''\n",
    "    Function which enumerates the inversions in a list\n",
    "    '''\n",
    "    a = array.copy()\n",
    "    result = []\n",
    "    for i,n1 in enumerate(a):\n",
    "        for j,n2 in enumerate(a[i+1:]):\n",
    "            if n1 > n2:\n",
    "                result.append((i,j+i+1))\n",
    "    return result\n",
    "#Test\n",
    "a2 = [2,3,8,6,1]\n",
    "find_inversion(a2)\n"
   ]
  },
  {
   "cell_type": "code",
   "execution_count": 60,
   "metadata": {},
   "outputs": [
    {
     "name": "stdout",
     "output_type": "stream",
     "text": [
      "The number of inversions for the given array is 5.\n"
     ]
    }
   ],
   "source": [
    "#Exercise 2.2\n",
    "\n",
    "counter = 0\n",
    "    \n",
    "def merge(l, r):\n",
    "    global counter\n",
    "    result = []\n",
    "    l_index = 0\n",
    "    r_index = 0\n",
    "\n",
    "    while (l_index < len(l)) and (r_index < len(r)):\n",
    "        if l[l_index] < r[r_index]:\n",
    "            result.append(l[l_index])\n",
    "            l_index += 1\n",
    "        else:\n",
    "            result.append(r[r_index])\n",
    "            r_index += 1\n",
    "            counter += len(l)-l_index\n",
    "\n",
    "    if l_index < len(l):\n",
    "        result += l[l_index:]\n",
    "    if r_index < len(r):\n",
    "        result += r[r_index:]\n",
    "    return result\n",
    "\n",
    "def merge_sort(array):\n",
    "    a = array.copy()\n",
    "    if len(a) == 1:\n",
    "        return a\n",
    "    mid = len(a)//2\n",
    "    left = merge_sort(a[:mid]) \n",
    "    right = merge_sort(a[mid:]) \n",
    "    result = merge(left, right) \n",
    "    return result\n",
    "\n",
    "merge_sort(a2)\n",
    "print(f\"The number of inversions for the given array is {counter}.\")\n",
    "\n",
    "\n"
   ]
  },
  {
   "cell_type": "markdown",
   "metadata": {
    "colab": {},
    "colab_type": "code",
    "id": "7DHNJtvOUkgo"
   },
   "source": [
    "# 3. Recursive sum\n",
    "\n",
    "Write a function that uses recursion to compute the sum of an array or list of numbers\n",
    "\n",
    "```\n",
    "recursive_sum([2, 4, 5, 6, 7])\n",
    "\n",
    "output: 24\n",
    "```"
   ]
  },
  {
   "cell_type": "code",
   "execution_count": 61,
   "metadata": {},
   "outputs": [
    {
     "data": {
      "text/plain": [
       "24"
      ]
     },
     "execution_count": 61,
     "metadata": {},
     "output_type": "execute_result"
    }
   ],
   "source": [
    "def recursive_sum(array):\n",
    "    '''\n",
    "    Recursive function which computes the sum of an array of list of numbers\n",
    "    '''\n",
    "    a = array.copy()\n",
    "    if len(a) == 0:\n",
    "        return 0\n",
    "    return a[0] + recursive_sum(a[1:])\n",
    "\n",
    "#Test\n",
    "recursive_sum([2, 4, 5, 6, 7])"
   ]
  },
  {
   "cell_type": "markdown",
   "metadata": {},
   "source": [
    "# 4. Recursive denominators\n",
    "\n",
    "Write a Python program that uses recursion to find the greatest common divisor (gcd) of two integers.\n",
    "\n",
    "```\n",
    "recursive_gcd(12,14)\n",
    "\n",
    "output : 2\n",
    "```"
   ]
  },
  {
   "cell_type": "code",
   "execution_count": 62,
   "metadata": {},
   "outputs": [
    {
     "data": {
      "text/plain": [
       "2"
      ]
     },
     "execution_count": 62,
     "metadata": {},
     "output_type": "execute_result"
    }
   ],
   "source": [
    "def recursive_gcd(n1,n2):\n",
    "    '''\n",
    "    Recursive function which finds the greatest common divisor of two integers \n",
    "    '''\n",
    "    if n2==0:\n",
    "        return n1\n",
    "    return recursive_gcd(n2, n1%n2)\n",
    "\n",
    "#Test\n",
    "recursive_gcd(12,14)"
   ]
  },
  {
   "cell_type": "markdown",
   "metadata": {},
   "source": [
    "# 5. Recursive power function\n",
    "\n",
    "Write a recursive function to calculate the value of 'a' to the power 'b'. \n",
    "\n",
    "```\n",
    "recursive_pow(3, 4)\n",
    "\n",
    "output: 81\n",
    "```"
   ]
  },
  {
   "cell_type": "code",
   "execution_count": 63,
   "metadata": {},
   "outputs": [
    {
     "data": {
      "text/plain": [
       "81"
      ]
     },
     "execution_count": 63,
     "metadata": {},
     "output_type": "execute_result"
    }
   ],
   "source": [
    "def recursive_pow(a,b):\n",
    "    '''\n",
    "    Recursive function which calculates the value of 'a' to the power of 'b'\n",
    "    '''\n",
    "    if b == 0:\n",
    "        return 1\n",
    "    return a*recursive_pow(a, b-1)\n",
    "\n",
    "#Test\n",
    "recursive_pow(3, 4)"
   ]
  },
  {
   "cell_type": "markdown",
   "metadata": {},
   "source": [
    "# 6. (Stretch) K-Nearest Neighbours\n",
    "\n",
    "Consider a matrix with the following format:\n",
    "\n",
    "```\n",
    "[[0.3, 0.8],\n",
    " [-0.2, 0.5],\n",
    " [1, -1],\n",
    " [0.9, 0.5]\n",
    "]\n",
    "```\n",
    "\n",
    "Each row denotes a point, and the numbers in each row are the coordinates. The coordinates in this example are in 2d, but the matrix could be in 3d (3 numbers per row) or even higher dimensions.\n",
    "\n",
    "Your task is to write a function `knn(m, p)` or `k_nearest_neighbors(m, p, k)` which takes in a matrix of points `m`, an integer `p` denoting the index of a point in that matrix, and an intger `k` denoting the number of nearest neighbors to return.\n",
    "\n",
    "The function returns the index of the `k` nearest neighbors of the point `p` in the matrix `m`.\n",
    "\n",
    "```\n",
    "dataset = [[2.7810836,2.550537003,0],\n",
    "\t[1.465489372,2.362125076,0],\n",
    "\t[3.396561688,4.400293529,0],\n",
    "\t[1.38807019,1.850220317,0],\n",
    "\t[3.06407232,3.005305973,0],\n",
    "\t[7.627531214,2.759262235,1],\n",
    "\t[5.332441248,2.088626775,1],\n",
    "\t[6.922596716,1.77106367,1],\n",
    "\t[8.675418651,-0.242068655,1],\n",
    "\t[7.673756466,3.508563011,1]]\n",
    "\n",
    "knn(dataset, 0, 2)\n",
    "\n",
    "output : [4, 1]\n",
    "```\n",
    "\n",
    "\n",
    "You can use `from sklearn.neighbors import NearestNeighbors` to test your function"
   ]
  },
  {
   "cell_type": "code",
   "execution_count": 64,
   "metadata": {},
   "outputs": [
    {
     "name": "stdout",
     "output_type": "stream",
     "text": [
      "[4 1]\n",
      "[[0 4 1]]\n"
     ]
    }
   ],
   "source": [
    "from sklearn.neighbors import NearestNeighbors\n",
    "np.random.seed(seed=1)\n",
    "array = np.random.randint(1,10,[11,6])\n",
    "\n",
    "def distance(pt1, pt2):\n",
    "    '''\n",
    "    Finds the distance between two points\n",
    "    '''\n",
    "    \n",
    "    diff_sq = (pt1-pt2)**2\n",
    "    dist = np.sqrt(np.sum(diff_sq))\n",
    "    return dist\n",
    "\n",
    "def knn(m, p, k):\n",
    "    '''\n",
    "    Finds the k closest points to a point located at index p in an array.\n",
    "    '''\n",
    "    a = m.copy()\n",
    "    targets = np.array([a[p]]*len(a))\n",
    "    a = np.array(a)\n",
    "    distances = np.apply_along_axis(distance, 1, a,targets)\n",
    "    distances[p]=np.inf\n",
    "    idx = np.argpartition(distances, k)\n",
    "    return idx[:k]\n",
    "\n",
    "#Test\n",
    "dataset = [[2.7810836,2.550537003,0],\n",
    "    [1.465489372,2.362125076,0],\n",
    "    [3.396561688,4.400293529,0],\n",
    "    [1.38807019,1.850220317,0],\n",
    "    [3.06407232,3.005305973,0],\n",
    "    [7.627531214,2.759262235,1],\n",
    "    [5.332441248,2.088626775,1],\n",
    "    [6.922596716,1.77106367,1],\n",
    "    [8.675418651,-0.242068655,1],\n",
    "    [7.673756466,3.508563011,1]]\n",
    "\n",
    "#Results from function knn\n",
    "print(knn(dataset,0,2))\n",
    "\n",
    "#Results obtained with Nearest Neighbors from sklearn.neighbors (This function seems to return also the reference point)\n",
    "neigh = NearestNeighbors(n_neighbors=2, radius=0.4)\n",
    "neigh.fit(dataset)\n",
    "print(neigh.kneighbors([dataset[0]], 3, return_distance=False))"
   ]
  },
  {
   "cell_type": "code",
   "execution_count": null,
   "metadata": {},
   "outputs": [],
   "source": []
  }
 ],
 "metadata": {
  "colab": {
   "authorship_tag": "ABX9TyNlxxWG+wkjGmf/FynU0Azv",
   "collapsed_sections": [],
   "name": "Workshop: Recursive && Divide and conquer.ipynb",
   "provenance": []
  },
  "kernelspec": {
   "display_name": "Python 3",
   "language": "python",
   "name": "python3"
  },
  "language_info": {
   "codemirror_mode": {
    "name": "ipython",
    "version": 3
   },
   "file_extension": ".py",
   "mimetype": "text/x-python",
   "name": "python",
   "nbconvert_exporter": "python",
   "pygments_lexer": "ipython3",
   "version": "3.8.3"
  }
 },
 "nbformat": 4,
 "nbformat_minor": 1
}
