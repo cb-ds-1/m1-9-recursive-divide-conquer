{
 "cells": [
  {
   "cell_type": "markdown",
   "metadata": {
    "colab_type": "text",
    "id": "Bj-Gi0QlUfyL"
   },
   "source": [
    "# Exercise 1.\n",
    "\n",
    "Although merge sort has a better Big-O than selection sort, selection sort can be faster for smaller inputs.\n",
    "\n",
    "Rewrite `merge_sort(A, min_size)` such that sub-arrays smaller than an input parameter `min_size` are sorted with our `selection_sort` from the lecture `algorithms intro`.\n",
    "\n",
    "Time the difference between pure merge sort and this new algorithm. Is it faster? Why or why not?"
   ]
  },
  {
   "cell_type": "code",
   "execution_count": 138,
   "metadata": {},
   "outputs": [
    {
     "data": {
      "text/plain": [
       "[3, 4, 5, 22, 44.4, 66.6, 111, 777]"
      ]
     },
     "execution_count": 138,
     "metadata": {},
     "output_type": "execute_result"
    }
   ],
   "source": [
    "#Selection sort copied from lecture notes, ANSWER is on next cell\n",
    "\n",
    "def linear_search(arr):\n",
    "  \"\"\"\n",
    "  Find the index of the minimum element\n",
    "  AKA argsort\n",
    "  \"\"\"\n",
    "  # initialize current best to +infinity\n",
    "  # So any element beats it\n",
    "  current_min = float('inf')\n",
    "  current_min_idx = 0\n",
    "  for i in range(len(arr)):\n",
    "    if arr[i] < current_min:\n",
    "      current_min = arr[i]\n",
    "      current_min_idx = i\n",
    "  return current_min_idx\n",
    "\n",
    "def selection_sort(arr):\n",
    "    \"\"\"Selection sort\"\"\"\n",
    "    n_sorted = 0\n",
    "    while n_sorted < len(arr):\n",
    "    # Get the index of the min of remaining elements\n",
    "    # Since argsort returns based on array, we correct result\n",
    "    # with `+ n_sorted`\n",
    "        min_idx = linear_search(arr[n_sorted:]) + n_sorted\n",
    "    # Swap minimum element with leftmost remaining element\n",
    "        to_swap = arr[n_sorted]\n",
    "        arr[n_sorted] = arr[min_idx]\n",
    "        arr[min_idx] = to_swap\n",
    "    # Increment and restart\n",
    "        n_sorted += 1\n",
    "    return arr\n",
    "selection_sort([111,4,3,22,5,44.4,66.6,777])"
   ]
  },
  {
   "cell_type": "code",
   "execution_count": 149,
   "metadata": {},
   "outputs": [
    {
     "data": {
      "text/plain": [
       "[-232, -4, 1, 2, 33, 53, 55, 344, 923, 2343]"
      ]
     },
     "execution_count": 149,
     "metadata": {},
     "output_type": "execute_result"
    }
   ],
   "source": [
    "#Answer to question: modifying merge sort so that selection sort is used if len(arr) is smaller than min_size\n",
    "\n",
    "def merge(left, right):\n",
    "    res = []\n",
    "  # Zip in together left and right parts\n",
    "    while len(left)>0 and len(right)>0: \n",
    "        if left[0]<right[0]: \n",
    "            res.append(left[0]) \n",
    "            left.pop(0)\n",
    "        else: \n",
    "            res.append(right[0]) \n",
    "            right.pop(0)\n",
    "  # Copy in remaining elements of left and right\n",
    "  # (if there are any)\n",
    "    for i in left: \n",
    "        res.append(i) \n",
    "    for i in right: \n",
    "        res.append(i)\n",
    "    return res\n",
    "\n",
    "def merge_sort_modified(A, min_size):\n",
    "    if len(A) < min_size:\n",
    "        return selection_sort(A)\n",
    "    else:\n",
    "        size = len(A)\n",
    "        if size > 1:\n",
    "            m = size // 2\n",
    "            left = merge_sort_modified(A[m:], min_size) \n",
    "            right = merge_sort_modified(A[:m], min_size)\n",
    "            return merge(left, right)\n",
    "        else:\n",
    "            return A\n",
    "\n",
    "merge_sort_modified([33, 1, 55, 2343, -232, 344, 2, 53, -4, 923], 11)"
   ]
  },
  {
   "cell_type": "code",
   "execution_count": 162,
   "metadata": {},
   "outputs": [
    {
     "name": "stdout",
     "output_type": "stream",
     "text": [
      "34.1 µs ± 798 ns per loop (mean ± std. dev. of 7 runs, 10000 loops each)\n",
      "63.6 µs ± 4.43 µs per loop (mean ± std. dev. of 7 runs, 10000 loops each)\n",
      "30.7 µs ± 791 ns per loop (mean ± std. dev. of 7 runs, 10000 loops each)\n",
      "29.6 µs ± 473 ns per loop (mean ± std. dev. of 7 runs, 10000 loops each)\n"
     ]
    }
   ],
   "source": [
    "#Time comparison\n",
    "import time \n",
    "def merge_sort(A): \n",
    "    size = len(A)\n",
    "    if size > 1:\n",
    "      m = size // 2\n",
    "      left = merge_sort(A[m:]) \n",
    "      right = merge_sort(A[:m])\n",
    "      return merge(left, right)\n",
    "    else:\n",
    "      return A\n",
    "\n",
    "%timeit merge_sort([33, 1, 55, 2343, -232, 344, 2, 53, -4, 923])\n",
    "\n",
    "%timeit merge_sort_modified([33, 1, 55, 2343, -232, 344, 2, 53, -4, 923], 2)\n",
    "\n",
    "%timeit selection_sort([33, 1, 55, 2343, -232, 344, 2, 53, -4, 923])\n",
    "\n",
    "%timeit merge_sort_modified([33, 1, 55, 2343, -232, 344, 2, 53, -4, 923], 11) #Forcing it to use selection sort"
   ]
  },
  {
   "cell_type": "markdown",
   "metadata": {
    "colab": {},
    "colab_type": "code",
    "id": "_xlEp7VWWkLL"
   },
   "source": [
    "# Exercise 2. \n",
    "\n",
    "Let $A[1...n]$ be an array of $n$ distinct numbers. If $i < j$ and $A[i] > A[j]$, then the pair $(i, j)$ is called an **inversion** of $A$. \n",
    "\n",
    "In other words an inversion is a pair of unsorted elements in an array.\n",
    "\n",
    "**1)** List the five inversions of $[2, 3, 8, 6, 1]$ \n",
    "\n",
    "**2)** Give an algorithm that determines the number of inversions in any permutation on $n$ elements in $O(nlog_2(n))$ worst-case time. (Hint: Modify merge sort.)"
   ]
  },
  {
   "cell_type": "markdown",
   "metadata": {},
   "source": [
    "2.1) (2,1), (3,1), (8,1), (8,6), (6,1) "
   ]
  },
  {
   "cell_type": "code",
   "execution_count": 34,
   "metadata": {},
   "outputs": [
    {
     "data": {
      "text/plain": [
       "[-232, -4, 1, 2, 33, 53, 55, 344, 923, 2343]"
      ]
     },
     "execution_count": 34,
     "metadata": {},
     "output_type": "execute_result"
    }
   ],
   "source": [
    "# 2.2\n",
    "\n",
    "def merge(left, right):\n",
    "  res = []\n",
    "  # Zip in together left and right parts\n",
    "  while len(left)>0 and len(right)>0: \n",
    "      if left[0]<right[0]: \n",
    "          res.append(left[0]) \n",
    "          left.pop(0)\n",
    "      else: \n",
    "          res.append(right[0]) \n",
    "          right.pop(0)\n",
    "  # Copy in remaining elements of left and right\n",
    "  # (if there are any)\n",
    "  for i in left: \n",
    "      res.append(i) \n",
    "  for i in right: \n",
    "      res.append(i)\n",
    "  return res\n",
    "\n",
    "def merge_sort(A): \n",
    "    size = len(A)\n",
    "    if size > 1:\n",
    "      m = size // 2\n",
    "      left = merge_sort(A[m:]) \n",
    "      right = merge_sort(A[:m])\n",
    "      return merge(left, right)\n",
    "    else:\n",
    "      return A\n",
    "\n",
    "merge_sort([33, 1, 55, 2343, -232, 344, 2, 53, -4, 923])"
   ]
  },
  {
   "cell_type": "code",
   "execution_count": 86,
   "metadata": {},
   "outputs": [
    {
     "data": {
      "text/plain": [
       "(5, [1, 2, 3, 6, 8])"
      ]
     },
     "execution_count": 86,
     "metadata": {},
     "output_type": "execute_result"
    }
   ],
   "source": [
    "def merge_sort_inversion(arr):\n",
    "    count = 0\n",
    "    left_count = 0\n",
    "    right_count = 0\n",
    "    res = []\n",
    "    if len(arr) > 1:\n",
    "        M = len(arr)//2\n",
    "        L = arr[:M]\n",
    "        R = arr[M:]\n",
    "        left_count, L = merge_sort_inversion(L)\n",
    "        right_count, R = merge_sort_inversion(R)\n",
    "        x = 0\n",
    "        y = 0\n",
    "        while x < len(L) and y < len(R):\n",
    "            if L[x] < R[y]:\n",
    "                res.append(L[x])\n",
    "                x += 1\n",
    "            else:\n",
    "                res.append(R[y])\n",
    "                y += 1\n",
    "                count += len(L[x:])\n",
    "        while x < len(L):\n",
    "            res.append(L[x])\n",
    "            x += 1    \n",
    "        while y < len(R):\n",
    "            res.append(R[y])\n",
    "            y += 1\n",
    "    else:\n",
    "        res = arr[:]\n",
    "        \n",
    "    return count + left_count + right_count, res\n",
    "\n",
    "\n",
    "merge_sort_inversion([2,3,8,6,1])"
   ]
  },
  {
   "cell_type": "markdown",
   "metadata": {
    "colab": {},
    "colab_type": "code",
    "id": "7DHNJtvOUkgo"
   },
   "source": [
    "# 3. Recursive sum\n",
    "\n",
    "Write a function that uses recursion to compute the sum of an array or list of numbers\n",
    "\n",
    "```\n",
    "recursive_sum([2, 4, 5, 6, 7])\n",
    "\n",
    "output: 24\n",
    "```"
   ]
  },
  {
   "cell_type": "code",
   "execution_count": 10,
   "metadata": {},
   "outputs": [
    {
     "data": {
      "text/plain": [
       "24"
      ]
     },
     "execution_count": 10,
     "metadata": {},
     "output_type": "execute_result"
    }
   ],
   "source": [
    "def recursive_sum(arr):\n",
    "    if len(arr) == 0:\n",
    "        return 0\n",
    "    else:\n",
    "        return arr[0] + recursive_sum(arr[1:])\n",
    "\n",
    "recursive_sum([2, 4, 5, 6, 7])"
   ]
  },
  {
   "cell_type": "markdown",
   "metadata": {},
   "source": [
    "# 4. Recursive denominators\n",
    "\n",
    "Write a Python program that uses recursion to find the greatest common divisor (gcd) of two integers.\n",
    "\n",
    "```\n",
    "recursive_gcd(12,14)\n",
    "\n",
    "output : 2\n",
    "```"
   ]
  },
  {
   "cell_type": "code",
   "execution_count": 24,
   "metadata": {},
   "outputs": [
    {
     "data": {
      "text/plain": [
       "2"
      ]
     },
     "execution_count": 24,
     "metadata": {},
     "output_type": "execute_result"
    }
   ],
   "source": [
    "def recursive_gcd(a, b):\n",
    "    if b == 0:\n",
    "        return a\n",
    "    else:\n",
    "        return recursive_gcd(b, a%b)\n",
    "\n",
    "recursive_gcd(12, 14)"
   ]
  },
  {
   "cell_type": "markdown",
   "metadata": {},
   "source": [
    "# 5. Recursive power function\n",
    "\n",
    "Write a recursive function to calculate the value of 'a' to the power 'b'. \n",
    "\n",
    "```\n",
    "recursive_pow(3, 4)\n",
    "\n",
    "output: 81\n",
    "```"
   ]
  },
  {
   "cell_type": "code",
   "execution_count": 31,
   "metadata": {},
   "outputs": [
    {
     "data": {
      "text/plain": [
       "81"
      ]
     },
     "execution_count": 31,
     "metadata": {},
     "output_type": "execute_result"
    }
   ],
   "source": [
    "def recursive_pow(a, b):\n",
    "    if b == 1:\n",
    "        return a\n",
    "    elif b == 0:\n",
    "        return 1\n",
    "    else:\n",
    "        return a * recursive_pow(a, b - 1)\n",
    "    \n",
    "    \n",
    "recursive_pow(3, 4)"
   ]
  },
  {
   "cell_type": "markdown",
   "metadata": {},
   "source": [
    "# 6. (Stretch) K-Nearest Neighbours\n",
    "\n",
    "Consider a matrix with the following format:\n",
    "\n",
    "```\n",
    "[[0.3, 0.8],\n",
    " [-0.2, 0.5],\n",
    " [1, -1],\n",
    " [0.9, 0.5]\n",
    "]\n",
    "```\n",
    "\n",
    "Each row denotes a point, and the numbers in each row are the coordinates. The coordinates in this example are in 2d, but the matrix could be in 3d (3 numbers per row) or even higher dimensions.\n",
    "\n",
    "Your task is to write a function `knn(m, p)` or `k_nearest_neighbors(m, p, k)` which takes in a matrix of points `m`, an integer `p` denoting the index of a point in that matrix, and an intger `k` denoting the number of nearest neighbors to return.\n",
    "\n",
    "The function returns the index of the `k` nearest neighbors of the point `p` in the matrix `m`.\n",
    "\n",
    "```\n",
    "dataset = [[2.7810836,2.550537003,0],\n",
    "\t[1.465489372,2.362125076,0],\n",
    "\t[3.396561688,4.400293529,0],\n",
    "\t[1.38807019,1.850220317,0],\n",
    "\t[3.06407232,3.005305973,0],\n",
    "\t[7.627531214,2.759262235,1],\n",
    "\t[5.332441248,2.088626775,1],\n",
    "\t[6.922596716,1.77106367,1],\n",
    "\t[8.675418651,-0.242068655,1],\n",
    "\t[7.673756466,3.508563011,1]]\n",
    "\n",
    "knn(dataset, 0, 2)\n",
    "\n",
    "output : [4, 1]\n",
    "```\n",
    "\n",
    "You can use `from sklearn.neighbors import NearestNeighbors` to test your function"
   ]
  }
 ],
 "metadata": {
  "colab": {
   "authorship_tag": "ABX9TyNlxxWG+wkjGmf/FynU0Azv",
   "collapsed_sections": [],
   "name": "Workshop: Recursive && Divide and conquer.ipynb",
   "provenance": []
  },
  "kernelspec": {
   "display_name": "Python 3",
   "language": "python",
   "name": "python3"
  },
  "language_info": {
   "codemirror_mode": {
    "name": "ipython",
    "version": 3
   },
   "file_extension": ".py",
   "mimetype": "text/x-python",
   "name": "python",
   "nbconvert_exporter": "python",
   "pygments_lexer": "ipython3",
   "version": "3.8.3"
  }
 },
 "nbformat": 4,
 "nbformat_minor": 1
}
