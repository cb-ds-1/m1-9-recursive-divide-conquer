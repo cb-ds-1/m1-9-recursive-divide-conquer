{
 "cells": [
  {
   "cell_type": "markdown",
   "metadata": {
    "colab_type": "text",
    "id": "Bj-Gi0QlUfyL"
   },
   "source": [
    "# Exercise 1.\n",
    "\n",
    "Although merge sort has a better Big-O than selection sort, selection sort can be faster for smaller inputs.\n",
    "\n",
    "Rewrite `merge_sort(A, min_size)` such that sub-arrays smaller than an input parameter `min_size` are sorted with our `selection_sort` from the lecture `algorithms intro`.\n",
    "\n",
    "Time the difference between pure merge sort and this new algorithm. Is it faster? Why or why not?"
   ]
  },
  {
   "cell_type": "code",
   "execution_count": 37,
   "metadata": {},
   "outputs": [
    {
     "data": {
      "text/plain": [
       "[3, 4, 5, 22, 44.4, 66.6, 111, 777]"
      ]
     },
     "execution_count": 37,
     "metadata": {},
     "output_type": "execute_result"
    }
   ],
   "source": [
    "import numpy as np\n",
    "\n",
    "def linear_search(arr):\n",
    "    \"\"\"\n",
    "    Find the index of the minimum element\n",
    "    AKA argsort\n",
    "    \"\"\"\n",
    "  # initialize current best to +infinity\n",
    "  # So any element beats it\n",
    "    current_min = float('inf')\n",
    "    current_min_idx = 0\n",
    "    for i in range(len(arr)):\n",
    "        if arr[i] < current_min:\n",
    "            current_min = arr[i]\n",
    "            current_min_idx = i\n",
    "    return current_min_idx\n",
    "\n",
    "\n",
    "def selection_sort(arr):\n",
    "    \"\"\"Selection sort\"\"\"\n",
    "    n_sorted = 0\n",
    "    while n_sorted < len(arr):\n",
    "    # Get the index of the min of remaining elements\n",
    "    # Since argsort returns based on array, we correct result\n",
    "    # with `+ n_sorted`\n",
    "        min_idx = linear_search(arr[n_sorted:]) + n_sorted\n",
    "    # Swap minimum element with leftmost remaining element\n",
    "        to_swap = arr[n_sorted]\n",
    "        arr[n_sorted] = arr[min_idx]\n",
    "        arr[min_idx] = to_swap\n",
    "    # Increment and restart\n",
    "        n_sorted += 1\n",
    "        \n",
    "\n",
    "def merge(left, right):\n",
    "    res = []\n",
    "    #zip through R and L parts\n",
    "    while len(left) > 0 and len(right) > 0:\n",
    "        if left[0] < right[0]:\n",
    "            res.append(left[0])\n",
    "            left.pop(0)\n",
    "        else:\n",
    "            res.append(right[0])\n",
    "            right.pop(0)\n",
    "    for i in left:\n",
    "        res.append(i)\n",
    "    for i in right:\n",
    "        res.append(i)\n",
    "    return res\n",
    "\n",
    "\n",
    "def merge_sort_pure(arr):\n",
    "    size = len(arr)\n",
    "    if size > 1:\n",
    "        mid = size // 2\n",
    "        left = merge_sort_pure(arr[:mid])\n",
    "        right = merge_sort_pute(arr[mid:])\n",
    "        return merge(left,right)\n",
    "    else:\n",
    "        return arr\n",
    "\n",
    "arr = [111,4,3,22,5,44.4,66.6,777]\n",
    "selection_sort(arr)\n",
    "arr"
   ]
  },
  {
   "cell_type": "code",
   "execution_count": 54,
   "metadata": {},
   "outputs": [
    {
     "name": "stdout",
     "output_type": "stream",
     "text": [
      "6.61 µs ± 205 ns per loop (mean ± std. dev. of 7 runs, 100000 loops each)\n",
      "5.6 µs ± 352 ns per loop (mean ± std. dev. of 7 runs, 100000 loops each)\n"
     ]
    }
   ],
   "source": [
    "def merge_sort(arr, min_size=0):\n",
    "    \n",
    "    if len(arr) <= 1: #if array is >= 1 just return array. Nothing to sort\n",
    "        return arr\n",
    "    elif len(arr) < min_size: #if less than min_size, use selection_sort\n",
    "        return selection_sort(arr)\n",
    "    else:\n",
    "        midpt = len(arr)//2 #find midpoint to divide array by 2 & plug 2 part array into merge func\n",
    "        return merge(merge_sort(arr[:midpt]),merge_sort(arr[midpt:])) \n",
    "\n",
    "a = [2,5,1,3,4,1.5,2.5]\n",
    "%timeit merge_sort(a,)\n",
    "%timeit merge_sort(a,20)\n",
    "\n",
    "#using the new algorithm which incorporates search_sort fn is slightly quicker than using\n",
    "#only the pure merge_sort without search_sort"
   ]
  },
  {
   "cell_type": "markdown",
   "metadata": {
    "colab": {},
    "colab_type": "code",
    "id": "_xlEp7VWWkLL"
   },
   "source": [
    "# Exercise 2. \n",
    "\n",
    "Let $A[1...n]$ be an array of $n$ distinct numbers. If $i < j$ and $A[i] > A[j]$, then the pair $(i, j)$ is called an **inversion** of $A$. \n",
    "\n",
    "In other words an inversion is a pair of unsorted elements in an array.\n",
    "\n",
    "**1)** List the five inversions of $[2, 3, 8, 6, 1]$ \n",
    "\n",
    "**2)** Give an algorithm that determines the number of inversions in any permutation on $n$ elements in $O(nlog_2(n))$ worst-case time. (Hint: Modify merge sort.)"
   ]
  },
  {
   "cell_type": "code",
   "execution_count": 88,
   "metadata": {},
   "outputs": [
    {
     "name": "stdout",
     "output_type": "stream",
     "text": [
      "The array has 5 inversions\n",
      "The inversion pairs are: [(2, 1), (3, 1), (8, 6), (8, 1), (6, 1)]\n"
     ]
    }
   ],
   "source": [
    "#Number of inversions can be calculated as n(n-1) / 2\n",
    "# 1: List the five inversions:\n",
    "\n",
    "def num_inversions(arr): #for recursive fn (below)\n",
    "    \"\"\"\n",
    "    Counts the number of inversions\n",
    "    in a selected array\n",
    "    \"\"\"\n",
    "    inv_count = 0\n",
    "    for i in range(len(arr)): #i in range or arr \n",
    "        for j in range(i+1, len(arr)): #j is i + 1 because we are starting one index over and ending in the len of arr\n",
    "            if arr[i] > arr[j]: #see if arr[i] > arr[j] and if so, add to inv_count\n",
    "                inv_count += 1\n",
    "    return inv_count #return number of inversions\n",
    "\n",
    "def list_inversions(arr):\n",
    "    \"\"\"\n",
    "    Lists the inversions in\n",
    "    a specified array\n",
    "    \"\"\"\n",
    "    inv = []\n",
    "    \n",
    "    for i in range(len(arr)):\n",
    "        for j in range(i+1, len(arr)):\n",
    "            if arr[i] > arr[j]:\n",
    "                inv.append((arr[i],arr[j]))\n",
    "    return inv\n",
    "\n",
    "print(f\"The array has {num_inversions([2,3,8,6,1])} inversions\")\n",
    "print(f\"The inversion pairs are: {list_inversions([2,3,8,6,1])}\")"
   ]
  },
  {
   "cell_type": "code",
   "execution_count": 5,
   "metadata": {},
   "outputs": [
    {
     "name": "stdout",
     "output_type": "stream",
     "text": [
      "There are 5 inversions in [2,3,8,6,1]\n",
      "There are 7 inversions in [4,6,1,3,2]\n"
     ]
    }
   ],
   "source": [
    "# got a whole lot of help: https://www.geeksforgeeks.org/counting-inversions/\n",
    "#Recursive inversion count:\n",
    "\n",
    "def inv_merge_sort(arr):\n",
    "    \"\"\"\n",
    "    Function to use inversion count.\n",
    "    Temp_arr is created to store\n",
    "    sorted array in merge function\n",
    "    \"\"\"\n",
    "    temp_arr = [0]*len(arr) #temp array of 0's the size of orig array\n",
    "    return count_inv_merge_sort(arr,temp_arr,0,(len(arr))-1)\n",
    "\n",
    "def count_inv_merge_sort(arr,temp_arr,left,right):\n",
    "    \"\"\"\n",
    "    Will use inv_merge_sort fn to count\n",
    "    number of inversions in array.\n",
    "    \"\"\"\n",
    "    inv_count = 0 #used to store inv counts in each recursive call\n",
    "    \n",
    "    if left < right:\n",
    "        mid = (left + right) // 2\n",
    "        #Count inversion in left subarray\n",
    "        inv_count += count_inv_merge_sort(arr,temp_arr,left,mid)\n",
    "        #Count inversion in right subarray\n",
    "        inv_count += count_inv_merge_sort(arr,temp_arr,mid+1,right)\n",
    "        #sort and merge subarrays\n",
    "        inv_count += inv_merge(arr,temp_arr,left,mid,right)\n",
    "    return inv_count\n",
    "\n",
    "def inv_merge(arr,temp_arr,left,mid,right):\n",
    "    \"\"\"\n",
    "    Merge two subarrays into a single\n",
    "    sorted array\n",
    "    \"\"\"\n",
    "    i = left    #Start index of left subarray\n",
    "    j = mid + 1 #Start index of right subarry\n",
    "    k = left    #Start index of to be sorted subarray\n",
    "    inv_count = 0\n",
    "    \n",
    "    #Ensures that i and j don't exceet their subarray limits    \n",
    "    while i <= mid and j <= right:\n",
    "        if arr[i] <= arr[j]: #no inversions if i <= j\n",
    "            temp_arr[k] = arr[i] #plugging in to temp array with left index \n",
    "            k += 1\n",
    "            i += 1\n",
    "        else:                #inversion if i > j\n",
    "            temp_arr[k] = arr[j]\n",
    "            inv_count += (mid-i + 1)\n",
    "            k += 1\n",
    "            j += 1\n",
    "\n",
    "    while i <= mid: #copy remaining elems of the left subrray into temp arr\n",
    "        temp_arr[k] = arr[i]\n",
    "        k += 1\n",
    "        i += 1\n",
    "        \n",
    "    while j <= right: #copy rem elems of the right subarray into temp arr\n",
    "        temp_arr[k] = arr[j]\n",
    "        k += 1\n",
    "        j += 1\n",
    "        \n",
    "    #copy sroted subarray into original array\n",
    "    for _ in range(left,right+1):\n",
    "        arr[_] = temp_arr[_]\n",
    "        \n",
    "    return inv_count\n",
    "\n",
    "arr = [2,3,8,6,1]\n",
    "arr2 = [4,6,1,3,2]\n",
    "print(f\"There are {inv_merge_sort(arr)} inversions in [2,3,8,6,1]\")\n",
    "print(f\"There are {inv_merge_sort(arr2)} inversions in [4,6,1,3,2]\")"
   ]
  },
  {
   "cell_type": "markdown",
   "metadata": {
    "colab": {},
    "colab_type": "code",
    "id": "7DHNJtvOUkgo"
   },
   "source": [
    "# 3. Recursive sum\n",
    "\n",
    "Write a function that uses recursion to compute the sum of an array or list of numbers\n",
    "\n",
    "```\n",
    "recursive_sum([2, 4, 5, 6, 7])\n",
    "\n",
    "output: 24\n",
    "```"
   ]
  },
  {
   "cell_type": "code",
   "execution_count": 38,
   "metadata": {},
   "outputs": [
    {
     "name": "stdout",
     "output_type": "stream",
     "text": [
      "10\n",
      "10\n"
     ]
    }
   ],
   "source": [
    "import numpy as np\n",
    "def recursive_sum(arr):\n",
    "    \"\"\"\n",
    "    Get the sum of a list\n",
    "    or array using recursion\n",
    "    \"\"\"\n",
    "    if len(arr) == 0: #if arr has no elements, return 0\n",
    "        return 0\n",
    "    else:\n",
    "        return arr[0] + recursive_sum(arr[1:]) #selse return sum starting with arr[0] \n",
    "                                               #a[0] or 1 + a[1] or 2 = 3 *notes for self*\n",
    "                                               #3 becomes a[0]...a[0] or 3 + a[1] or 3 = 6\n",
    "                                               #6 becomes a[0]...a[0] or 6 + a[1] or 4 = 10\n",
    "    \n",
    "\n",
    "x = [1,2,3,4]\n",
    "x = np.array(x)\n",
    "x\n",
    "y = [1,2,3,4]\n",
    "print(recursive_sum(x))\n",
    "print(recursive_sum(y))"
   ]
  },
  {
   "cell_type": "markdown",
   "metadata": {},
   "source": [
    "# 4. Recursive denominators\n",
    "\n",
    "Write a Python program that uses recursion to find the greatest common divisor (gcd) of two integers.\n",
    "\n",
    "```\n",
    "recursive_gcd(12,14)\n",
    "\n",
    "output : 2\n",
    "```"
   ]
  },
  {
   "cell_type": "code",
   "execution_count": 39,
   "metadata": {},
   "outputs": [
    {
     "data": {
      "text/plain": [
       "6"
      ]
     },
     "execution_count": 39,
     "metadata": {},
     "output_type": "execute_result"
    }
   ],
   "source": [
    "def recursive_gcd(a,b):\n",
    "    \"\"\"\n",
    "    Finds greatest common divisor\n",
    "    for two integers using recursion\n",
    "    \"\"\"\n",
    "    if b == 0: #if be is 0, return a. If a is 0, b is returned in else statement.\n",
    "        return a \n",
    "    else:\n",
    "        return gcd_recursive(b, a % b)# switches it up from my understanding\n",
    "                                      # if modulo returns the same a val, then it goes back and switches\n",
    "                                      # numbers and gets modulo of other values\n",
    "    \n",
    "recursive_gcd(18,24)"
   ]
  },
  {
   "cell_type": "markdown",
   "metadata": {},
   "source": [
    "# 5. Recursive power function\n",
    "\n",
    "Write a recursive function to calculate the value of 'a' to the power 'b'. \n",
    "\n",
    "```\n",
    "recursive_pow(3, 4)\n",
    "\n",
    "output: 81\n",
    "```"
   ]
  },
  {
   "cell_type": "code",
   "execution_count": 97,
   "metadata": {},
   "outputs": [
    {
     "data": {
      "text/plain": [
       "3125"
      ]
     },
     "execution_count": 97,
     "metadata": {},
     "output_type": "execute_result"
    }
   ],
   "source": [
    "def recursive_pow(a,b):\n",
    "    \"\"\"\n",
    "    Calculate the value 'a'to the\n",
    "    power of 'b' using recursion\n",
    "    \"\"\"\n",
    "    if b == 0:\n",
    "        return 1 #if power is 0, return 1\n",
    "    else:\n",
    "        return a * recursive_pow(a, b - 1) \n",
    "    #else multiply a given number to itself until the power reaches 0\n",
    "    #rec_pow(2,3): \n",
    "    #2 * rec_pow(2,3-1 or 2) = 2 * 2 * rec_pow(2,1) = 2 * 2 * 2 * rec_pow(2,0) = 2 * 2 * 2 * 1 (b/c b==0) = 8\n",
    "    \n",
    "    \n",
    "recursive_pow(5,5)"
   ]
  },
  {
   "cell_type": "markdown",
   "metadata": {},
   "source": [
    "# 6. (Stretch) K-Nearest Neighbours\n",
    "\n",
    "Consider a matrix with the following format:\n",
    "\n",
    "```\n",
    "[[0.3, 0.8],\n",
    " [-0.2, 0.5],\n",
    " [1, -1],\n",
    " [0.9, 0.5]\n",
    "]\n",
    "```\n",
    "\n",
    "Each row denotes a point, and the numbers in each row are the coordinates. The coordinates in this example are in 2d, but the matrix could be in 3d (3 numbers per row) or even higher dimensions.\n",
    "\n",
    "Your task is to write a function `knn(m, p)` or `k_nearest_neighbors(m, p, k)` which takes in a matrix of points `m`, an integer `p` denoting the index of a point in that matrix, and an intger `k` denoting the number of nearest neighbors to return.\n",
    "\n",
    "The function returns the index of the `k` nearest neighbors of the point `p` in the matrix `m`.\n",
    "\n",
    "```\n",
    "dataset = [[2.7810836,2.550537003,0],\n",
    "\t[1.465489372,2.362125076,0],\n",
    "\t[3.396561688,4.400293529,0],\n",
    "\t[1.38807019,1.850220317,0],\n",
    "\t[3.06407232,3.005305973,0],\n",
    "\t[7.627531214,2.759262235,1],\n",
    "\t[5.332441248,2.088626775,1],\n",
    "\t[6.922596716,1.77106367,1],\n",
    "\t[8.675418651,-0.242068655,1],\n",
    "\t[7.673756466,3.508563011,1]]\n",
    "\n",
    "knn(dataset, 0, 2)\n",
    "\n",
    "output : [4, 1]\n",
    "```\n",
    "\n",
    "You can use `from sklearn.neighbors import NearestNeighbors` to test your function"
   ]
  },
  {
   "cell_type": "code",
   "execution_count": null,
   "metadata": {},
   "outputs": [],
   "source": []
  },
  {
   "cell_type": "code",
   "execution_count": null,
   "metadata": {},
   "outputs": [],
   "source": []
  },
  {
   "cell_type": "code",
   "execution_count": null,
   "metadata": {},
   "outputs": [],
   "source": []
  }
 ],
 "metadata": {
  "colab": {
   "authorship_tag": "ABX9TyNlxxWG+wkjGmf/FynU0Azv",
   "collapsed_sections": [],
   "name": "Workshop: Recursive && Divide and conquer.ipynb",
   "provenance": []
  },
  "kernelspec": {
   "display_name": "Python 3",
   "language": "python",
   "name": "python3"
  },
  "language_info": {
   "codemirror_mode": {
    "name": "ipython",
    "version": 3
   },
   "file_extension": ".py",
   "mimetype": "text/x-python",
   "name": "python",
   "nbconvert_exporter": "python",
   "pygments_lexer": "ipython3",
   "version": "3.8.3"
  }
 },
 "nbformat": 4,
 "nbformat_minor": 1
}
