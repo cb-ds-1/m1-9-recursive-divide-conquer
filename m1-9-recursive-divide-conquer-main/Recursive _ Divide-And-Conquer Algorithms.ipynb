{
 "cells": [
  {
   "cell_type": "markdown",
   "metadata": {
    "colab_type": "text",
    "id": "yeECFVb3BfuA"
   },
   "source": [
    "Today, we're going to create a much better sorting algorithm! It's called **merge sort**. To do this we'll have to learn a few new concepts first.\n",
    "\n",
    "# Recursion\n",
    "\n",
    "Recursion is a way to decompose an algorithm into a **base-case** and a way to roll-up that base case into a result.\n",
    "\n",
    "You generally see this in the form of a **function that calls itself**.\n",
    "\n",
    "### Example: Factorial\n",
    "\n",
    "A factorial in mathematics is a function on integers denoted by the $!$ symbol. It means we multiply the number by the product of all smaller natural numbers:\n",
    "\n",
    "$$n! = n * (n-1) * (n-2) * ... * 1,\\ n \\in \\mathbb{N}$$\n",
    "\n",
    "In code this translates to a clean loop:"
   ]
  },
  {
   "cell_type": "code",
   "execution_count": 1,
   "metadata": {
    "colab": {},
    "colab_type": "code",
    "id": "zklfPw9fEPs3"
   },
   "outputs": [],
   "source": [
    "def factorial_naive(n):\n",
    "    if n <= 1:\n",
    "        return n\n",
    "    res = 1\n",
    "    for i in range(1, n+1): #we want to make sure that we include the n in the range\n",
    "        res *= i\n",
    "    return res"
   ]
  },
  {
   "cell_type": "markdown",
   "metadata": {
    "colab_type": "text",
    "id": "gfF8KlsUIZmU"
   },
   "source": [
    "But this just too boring for us.\n",
    "\n",
    "Let's make it **RECURSIVE**!"
   ]
  },
  {
   "cell_type": "code",
   "execution_count": null,
   "metadata": {
    "colab": {},
    "colab_type": "code",
    "id": "fPHRF5BeIZyo"
   },
   "outputs": [],
   "source": [
    "def factorial_recursive(n):\n",
    "    # base case\n",
    "    if n == 1:\n",
    "        return 1\n",
    "    # roll up the base case recursively\n",
    "    else:\n",
    "        return n * factorial(n-1)"
   ]
  },
  {
   "cell_type": "markdown",
   "metadata": {
    "colab_type": "text",
    "id": "_lO3YwbbJmCs"
   },
   "source": [
    "What's happening here?\n",
    "\n",
    "Let's look at the \"call stack\" for `factorial_recursive(5)`. Concentrate on the last line:\n",
    "\n",
    "```python\n",
    "return n * factorial(n-1)\n",
    "```\n",
    "\n",
    "Becomes\n",
    "\n",
    "```python\n",
    "return 5 * factorial(4)\n",
    "```\n",
    "\n",
    "Expanding the last line into\n",
    "\n",
    "```python\n",
    "5 * factorial(4) * factorial(3) ... * factorial(1)\n",
    "```\n",
    "\n",
    "And `factorial(1)` stops the recursion because of the **base-case**.\n",
    "\n",
    "### Exercise: Fibonnaci numbers\n",
    "\n",
    "The [Fibonnaci numbers](https://en.wikipedia.org/wiki/Fibonacci_number) are a natural sequence of numbers representing growth. The **Fibonnaci function** $F_n$ is defined as follows:\n",
    "\n",
    "$$F_0 = 0,\\ F_1 = 1$$\n",
    "\n",
    "$$F_n = F_{n-1} + F_{n-2}$$\n",
    "\n",
    "The sequence looks like \n",
    "\n",
    "$$0, 1, 1, 2, 3, 5, 8, 13, 21, 34, 55, ...$$\n",
    "\n",
    "And it appears all over nature! Some flower petals shape and pineapples follow these numbers. \n",
    "\n",
    "**exercise:** Write a function `fibonacci(n)` which computes the n-th fibonacci number"
   ]
  },
  {
   "cell_type": "code",
   "execution_count": 2,
   "metadata": {},
   "outputs": [],
   "source": [
    "def fibonacci(n):\n",
    "    if n == 0:\n",
    "        return 0\n",
    "    elif n == 1:\n",
    "        return 1\n",
    "    else:\n",
    "        return fibonacci(n-1) + fibonacci(n-2)\n",
    "    #Recursive uses the function in the function essentially"
   ]
  },
  {
   "cell_type": "code",
   "execution_count": 9,
   "metadata": {},
   "outputs": [],
   "source": [
    "def fibonacci2(n):\n",
    "    if n <= 1:\n",
    "        return n\n",
    "    else:\n",
    "        return fibonacci2(n-1) + fibonacci2(n-2)"
   ]
  },
  {
   "cell_type": "code",
   "execution_count": 11,
   "metadata": {},
   "outputs": [],
   "source": [
    "fibonacci3 = lambda n: n if n <= 1 else fibonacci3(n-1) + fibonacci(n-2)"
   ]
  },
  {
   "cell_type": "code",
   "execution_count": null,
   "metadata": {
    "colab": {},
    "colab_type": "code",
    "id": "5dDmmre3JlgS"
   },
   "outputs": [],
   "source": [
    "# Exercise: Students should try for 5-10 minutes to write the Fibonacci function themselves\n",
    "# If a student has a working solution, ask him to send it and critique it\n",
    "# If no one does, take a student who feels close and get his code there\n",
    "# If students finish in advance, tell the teacher privately \n",
    "#    (not to stress slower students)\n",
    "\n",
    "\n",
    "# Solution:\n",
    "def fib(n):\n",
    "    if n == 0:\n",
    "        return 0\n",
    "    elif n == 1:\n",
    "        return 1\n",
    "    else:\n",
    "        return fib(n-1) + fib(n-2)"
   ]
  },
  {
   "cell_type": "markdown",
   "metadata": {
    "colab_type": "text",
    "id": "UDTljYBtEMXP"
   },
   "source": [
    "# Divide-and-Conquer Algorithms\n",
    "\n",
    "(section 2.3.1 in CLRS)\n",
    "\n",
    "Often, algorithm problems seem intimidating by their complexity.\n",
    "\n",
    "The **divide and conquer** paradigm is a way to design solutions that manage this complexity into an elegant design.\n",
    "\n",
    "The idea is to \n",
    "\n",
    "1. Break the problem into small subproblems that are similar to the original problem but trivial to solve\n",
    "\n",
    "2. Solve the subproblems recursively\n",
    "\n",
    "3. Combine these solutions to create a solution to the original problem."
   ]
  },
  {
   "cell_type": "code",
   "execution_count": 12,
   "metadata": {},
   "outputs": [
    {
     "data": {
      "text/plain": [
       "array([0.01746059, 0.04399344, 0.08496471, 0.10473796, 0.11494731,\n",
       "       0.11992339, 0.1548282 , 0.1794874 , 0.19292184, 0.2201448 ,\n",
       "       0.266661  , 0.26697531, 0.28691481, 0.3091114 , 0.33608168,\n",
       "       0.36321424, 0.36500622, 0.36964703, 0.3845335 , 0.44210899,\n",
       "       0.44731219, 0.47777342, 0.48801274, 0.48887177, 0.50213784,\n",
       "       0.50466823, 0.5204993 , 0.52609253, 0.54155176, 0.59309692,\n",
       "       0.61858042, 0.63176008, 0.63267804, 0.72366058, 0.76243384,\n",
       "       0.7761009 , 0.78437793, 0.78664447, 0.80288523, 0.80536371,\n",
       "       0.82419485, 0.82916307, 0.83186128, 0.83204514, 0.83421534,\n",
       "       0.88581993, 0.88960148, 0.89464054, 0.95565716, 0.9593964 ])"
      ]
     },
     "execution_count": 12,
     "metadata": {},
     "output_type": "execute_result"
    }
   ],
   "source": [
    "import numpy as np\n",
    "\n",
    "a = np.random.rand(50)\n",
    "\n",
    "a.sort()\n",
    "a"
   ]
  },
  {
   "cell_type": "markdown",
   "metadata": {
    "colab_type": "text",
    "id": "Fq_-iAZ-EIip"
   },
   "source": [
    "# MergeSort\n",
    "\n",
    "`merge_sort` is a sorting algorithm which is a huge improvement (in terms of **big-O**) over our previous `selection_sort` algorithm.\n",
    "\n",
    "The idea for `merge_sort` is to:\n",
    "\n",
    "**Divide:** Divide the n-element sequence to be sorted into two subsequences of n=2 elements each.\n",
    "\n",
    "**Conquer:** Sort the two subsequences recursively using merge sort. \n",
    "\n",
    "**Combine:** Merge the two sorted subsequences to produce the sorted answer.\n",
    "\n",
    "\n",
    "The pseudocode for mergesort is as follows:\n",
    "\n",
    "```\n",
    "MergeSort(A):\n",
    "size = len(A)\n",
    "If size > l\n",
    "     1. Find the middle point to divide the array into two halves:  \n",
    "             middle m = (l+r)/2\n",
    "     2. Call mergeSort for first half:   \n",
    "             A_1 = mergeSort(A[:m])\n",
    "     3. Call mergeSort for second half:\n",
    "             A_2 = mergeSort(A[m:])\n",
    "     4. Merge the two halves sorted in step 2 and 3:\n",
    "             A =  merge(A_1, A_2)\n",
    "```\n",
    "\n",
    "Here, the `merge` method takes in two *sorted* arrays, and merges them together such that the result is sorted.\n",
    "\n",
    "The actual `merge_sort` code is exquisitely simple:"
   ]
  },
  {
   "cell_type": "code",
   "execution_count": 13,
   "metadata": {
    "colab": {},
    "colab_type": "code",
    "id": "wSeLNepQAS6Y"
   },
   "outputs": [],
   "source": [
    "def merge_sort(A): \n",
    "    size = len(A)\n",
    "    if size > 1:\n",
    "        m = size // 2 #Floor division so we don't get a float. 5//2= 2 and 3. Helpful for the list\n",
    "        left = merge_sort(A[m:]) \n",
    "        right = merge_sort(A[:m])\n",
    "        return merge(left, right)\n",
    "    else:\n",
    "        return A"
   ]
  },
  {
   "cell_type": "code",
   "execution_count": null,
   "metadata": {},
   "outputs": [],
   "source": []
  },
  {
   "cell_type": "code",
   "execution_count": 25,
   "metadata": {},
   "outputs": [
    {
     "data": {
      "text/plain": [
       "[-232, -4, 1, 2, 33, 53, 55, 344, 923, 2343]"
      ]
     },
     "execution_count": 25,
     "metadata": {},
     "output_type": "execute_result"
    }
   ],
   "source": [
    "def merge(left, right):\n",
    "    \n",
    "    result = []\n",
    "    \n",
    "    while len(left) > 0 and len(right) > 0: #because we're popping we are comparing both sides until no more in list\n",
    "        if left[0] < right[0]:\n",
    "            result.append(left[0])\n",
    "            left.pop(0)\n",
    "        else:\n",
    "            result.append(right[0])\n",
    "            right.pop(0)\n",
    "    \n",
    "    for i in left:\n",
    "        result.append(i)\n",
    "    for i in right:\n",
    "        result.append(i)\n",
    "    \n",
    "    return result\n",
    "\n",
    "merge_sort([33, 1, 55, 2343, -232, 344, 2, 53, -4, 923])"
   ]
  },
  {
   "cell_type": "code",
   "execution_count": 32,
   "metadata": {},
   "outputs": [
    {
     "data": {
      "text/plain": [
       "[1, 2, 3, 4, 4, 5, 6, 9, 88]"
      ]
     },
     "execution_count": 32,
     "metadata": {},
     "output_type": "execute_result"
    }
   ],
   "source": [
    "import numpy as np\n",
    "def merge(left, right):\n",
    "    \n",
    "    res = []\n",
    "    \n",
    "    #zip through R and L parts\n",
    "    while len(left) > 0 and len(right) > 0:\n",
    "        if left[0] < right[0]:\n",
    "            res.append(left[0])\n",
    "            left.pop(0)\n",
    "        else:\n",
    "            res.append(right[0])\n",
    "            right.pop(0)\n",
    "    for i in left:\n",
    "        res.append(i)\n",
    "    for i in right:\n",
    "        res.append(i)\n",
    "    return res\n",
    "\n",
    "merge([1,2,4,9], [3,4,5,6,88])"
   ]
  },
  {
   "cell_type": "markdown",
   "metadata": {
    "colab_type": "text",
    "id": "xaRlD0EGPllP"
   },
   "source": [
    "We just need to implement the `merge` function, which is a little less clean:"
   ]
  },
  {
   "cell_type": "code",
   "execution_count": 14,
   "metadata": {
    "colab": {},
    "colab_type": "code",
    "id": "brka-Bt1Pls8"
   },
   "outputs": [
    {
     "data": {
      "text/plain": [
       "[-232, -4, 1, 2, 33, 53, 55, 344, 923, 2343]"
      ]
     },
     "execution_count": 14,
     "metadata": {},
     "output_type": "execute_result"
    }
   ],
   "source": [
    "# Exercise: Students should try for 5-10 minutes to write the merge fn\n",
    "# If a student has a working solution, ask him to send it and critique it\n",
    "# If no one does, take a student who feels close and get his code there\n",
    "# If students finish in advance, tell the teacher privately \n",
    "#    (not to stress slower students)\n",
    "\n",
    "\n",
    "### Solution\n",
    "def merge(left, right):\n",
    "    res = []\n",
    "  # Zip in together left and right parts\n",
    "    while len(left)>0 and len(right)>0: \n",
    "        if left[0]<right[0]: \n",
    "            res.append(left[0]) \n",
    "            left.pop(0)\n",
    "        else: \n",
    "            res.append(right[0]) \n",
    "            right.pop(0)\n",
    "  # Copy in remaining elements of left and right\n",
    "  # (if there are any)\n",
    "    for i in left: \n",
    "        res.append(i) \n",
    "    for i in right: \n",
    "        res.append(i)\n",
    "    return res\n",
    "\n",
    "merge_sort([33, 1, 55, 2343, -232, 344, 2, 53, -4, 923])"
   ]
  },
  {
   "cell_type": "markdown",
   "metadata": {
    "colab_type": "text",
    "id": "iyun_XkvG0TF"
   },
   "source": [
    "# Merge Sort Analysis\n",
    "\n",
    "We can do a bit of math to see what the **Big-O** of merge sort is. \n",
    "\n",
    "You won't have to do math like this yourself, but walking through it will illustrate the analysis logic. Let's divide the Big-O of the 3 parts:\n",
    "\n",
    "**Divide:** The divide step just computes the middle of the subarray, which takes constant time. Thus it's $O(1)$\n",
    "\n",
    "**Conquer:** We recursively solve two subproblems, each of size $n/2$, which contributes $2 * O(n/2)$.\n",
    "\n",
    "**Combine:** The `merge` procedure on two n-element subarrays takes time $O(n)$\n",
    "\n",
    "Then the runtime for any \"level\" in the recursion is:\n",
    "\n",
    "$$O(n) = 2 * O(n/2) + n$$\n",
    "\n",
    "This builds a tree of function calls where each tree divides $n$ by half like this:\n",
    "\n",
    "![](https://drive.google.com/uc?export=view&id=1zKgKR-cG-8u7wB4klOLADmtxaklH6F06)\n",
    "\n",
    "\n",
    "\n",
    "The number of divisions by 2 you can do on any number is $log_2(n)$. So the height of the tree is also $log_2(n)$ which calls for a total of \n",
    "\n",
    "$$O(n*log_2(n))$$\n",
    "\n",
    "Note that $n*log_2(n) < n^2$ for large values of $n$"
   ]
  },
  {
   "cell_type": "code",
   "execution_count": null,
   "metadata": {
    "colab": {},
    "colab_type": "code",
    "id": "rN3oMNjQG200"
   },
   "outputs": [],
   "source": [
    "def merge_sort(A): \n",
    "    size = len(A)\n",
    "    if size > 1:\n",
    "        m = size // 2 #Floor division so we don't get a float. 5//2= 2 and 3. Helpful for the list\n",
    "        left = merge_sort(A[m:]) \n",
    "        right = merge_sort(A[:m])\n",
    "        return merge(left, right)\n",
    "    else:\n",
    "        return A"
   ]
  },
  {
   "cell_type": "code",
   "execution_count": null,
   "metadata": {
    "colab": {},
    "colab_type": "code",
    "id": "euLv_fpAG23U"
   },
   "outputs": [],
   "source": []
  }
 ],
 "metadata": {
  "colab": {
   "authorship_tag": "ABX9TyNrIgIvPmlHR17YNQoj0NY7",
   "collapsed_sections": [],
   "name": "Recursive && Divide-And-Conquer Algorithms.ipynb",
   "provenance": []
  },
  "kernelspec": {
   "display_name": "Python 3",
   "language": "python",
   "name": "python3"
  },
  "language_info": {
   "codemirror_mode": {
    "name": "ipython",
    "version": 3
   },
   "file_extension": ".py",
   "mimetype": "text/x-python",
   "name": "python",
   "nbconvert_exporter": "python",
   "pygments_lexer": "ipython3",
   "version": "3.8.3"
  }
 },
 "nbformat": 4,
 "nbformat_minor": 1
}
