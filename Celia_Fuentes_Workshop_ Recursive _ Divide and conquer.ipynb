{
 "cells": [
  {
   "cell_type": "markdown",
   "metadata": {
    "colab_type": "text",
    "id": "Bj-Gi0QlUfyL"
   },
   "source": [
    "# Exercise 1.\n",
    "\n",
    "Although merge sort has a better Big-O than selection sort, selection sort can be faster for smaller inputs.\n",
    "\n",
    "Rewrite `merge_sort(A, min_size)` such that sub-arrays smaller than an input parameter `min_size` are sorted with our `selection_sort` from the lecture `algorithms intro`.\n",
    "\n",
    "Time the difference between pure merge sort and this new algorithm. Is it faster? Why or why not?"
   ]
  },
  {
   "cell_type": "code",
   "execution_count": null,
   "metadata": {},
   "outputs": [],
   "source": [
    "'''\n",
    "Exercise 1\n",
    "\n",
    "INTRO:\n",
    "To make it easier for me,\n",
    "this exercise has 4 parts.\n",
    "\n",
    "PART I.\n",
    "Contains the functions\n",
    "merge() and merge_sort()\n",
    "\n",
    "PART II.\n",
    "Contains the functions\n",
    "linear_search() and selection_sort()\n",
    "\n",
    "PART III.\n",
    "Contains the new function\n",
    "merge_sort_min_size(A, min_size)\n",
    "\n",
    "PART IV.\n",
    "Contains a brief analysis\n",
    "of speed\n",
    "\n",
    "'''"
   ]
  },
  {
   "cell_type": "code",
   "execution_count": 1,
   "metadata": {},
   "outputs": [
    {
     "name": "stdout",
     "output_type": "stream",
     "text": [
      "17.7 µs ± 2.38 µs per loop (mean ± std. dev. of 7 runs, 100000 loops each)\n"
     ]
    }
   ],
   "source": [
    "'''\n",
    "PART I.\n",
    "\n",
    "The merge() function\n",
    "merges sorted left and right arrays.\n",
    "\n",
    "The arrays must be ordered first with\n",
    "merge_sort() function.\n",
    "\n",
    "These 2 functions will be used below\n",
    "for sub-arrays in A equal or larger than the min_size parameter\n",
    "of the new function \n",
    "merge_sort_min_size(A, min_size)\n",
    "\n",
    "I timed the use of merge_sort with\n",
    "A = [33, 1, 55, 2343, -232, 344, 2, 53, -4, 923]\n",
    "The output was:\n",
    "17.7 µs ± 2.38 µs per loop (mean ± std. dev. of 7 runs, 100000 loops each)\n",
    "\n",
    "'''\n",
    "\n",
    "def merge(left, right):\n",
    "    # make sure we don't modify input data\n",
    "    # good code practice to copy\n",
    "    left = left.copy()\n",
    "    right = right.copy()\n",
    "    res = []\n",
    "    \n",
    "    #zip thru R and L parts\n",
    "    while len(left) > 0 and len(right) > 0:\n",
    "        if left[0] < right[0]:\n",
    "            res.append(left[0])\n",
    "            left.pop(0)\n",
    "        else:\n",
    "            res.append(right[0])\n",
    "            right.pop(0)\n",
    "    \n",
    "    #cleanup step: add remaining elements (if any)\n",
    "    for e in left:\n",
    "        res.append(e)\n",
    "    for e in right:\n",
    "        res.append(e)\n",
    "    return res\n",
    "            \n",
    "        \n",
    "#print(merge([1, 2, 4, 9], [3, 4, 5, 6, 88])) #output should be [1, 2, 3, 4, 5, 6, 9, 88]\n",
    "\n",
    "\n",
    "'''\n",
    "This function sorts an array\n",
    "by dividing n into 2 (left, right)\n",
    "then merging them with the function merge(),\n",
    "see above\n",
    "'''\n",
    "\n",
    "def merge_sort(A): \n",
    "    n = len(A)\n",
    "    if n > 1:\n",
    "        m = n // 2\n",
    "        left = merge_sort(A[:m])\n",
    "        right = merge_sort(A[m:])\n",
    "        return merge(left, right) #the merge function is above\n",
    "    else:\n",
    "        return A\n",
    "\n",
    "A = [33, 1, 55, 2343, -232, 344, 2, 53, -4, 923]\n",
    "%timeit merge_sort(A)"
   ]
  },
  {
   "cell_type": "code",
   "execution_count": 14,
   "metadata": {},
   "outputs": [
    {
     "name": "stdout",
     "output_type": "stream",
     "text": [
      "12.3 µs ± 830 ns per loop (mean ± std. dev. of 7 runs, 100000 loops each)\n"
     ]
    }
   ],
   "source": [
    "'''\n",
    "PART II.\n",
    "\n",
    "The linear_search() function\n",
    "finds the index of the minimum element.\n",
    "\n",
    "The selection_sort() function\n",
    "sorts an array.\n",
    "\n",
    "These 2 functions will be used below\n",
    "for sub-arrays in A smaller than the min_size parameter\n",
    "of the new function \n",
    "merge_sort_min_size(A, min_size)\n",
    "\n",
    "I timed the use of selection_sort with\n",
    "arr = [33, 1, 55, 2343, -232, 344, 2, 53, -4, 923]\n",
    "The output was:\n",
    "12.3 µs ± 830 ns per loop (mean ± std. dev. of 7 runs, 100000 loops each)\n",
    "'''\n",
    "\n",
    "def linear_search(arr):\n",
    "    # initialize current best to +infinity\n",
    "    # So any element beats it\n",
    "    current_min = float('inf')\n",
    "    current_min_idx = 0\n",
    "    \n",
    "    for i in range(len(arr)):\n",
    "        if arr[i] < current_min:\n",
    "            current_min = arr[i]\n",
    "            current_min_idx = i\n",
    "    return current_min_idx\n",
    "\n",
    "\n",
    "def selection_sort(arr):\n",
    "    n_sorted = 0\n",
    "    \n",
    "    while n_sorted < len(arr):\n",
    "    # Get the index of the min of remaining elements\n",
    "    # Since argsort returns based on array, we correct result\n",
    "    # with `+ n_sorted`\n",
    "        min_idx = linear_search(arr[n_sorted:]) + n_sorted\n",
    "    \n",
    "    # Swap minimum element with leftmost remaining element\n",
    "        to_swap = arr[n_sorted]\n",
    "        arr[n_sorted] = arr[min_idx]\n",
    "        arr[min_idx] = to_swap\n",
    "    \n",
    "    # Increment and restart\n",
    "        n_sorted += 1\n",
    "\n",
    "arr = [33, 1, 55, 2343, -232, 344, 2, 53, -4, 923]\n",
    "selection_sort(arr)\n",
    "arr\n",
    "%timeit selection_sort([33, 1, 55, 2343, -232, 344, 2, 53, -4, 923])"
   ]
  },
  {
   "cell_type": "code",
   "execution_count": 3,
   "metadata": {},
   "outputs": [
    {
     "name": "stdout",
     "output_type": "stream",
     "text": [
      "16.6 µs ± 929 ns per loop (mean ± std. dev. of 7 runs, 100000 loops each)\n"
     ]
    }
   ],
   "source": [
    "'''\n",
    "PART III.\n",
    "The new function\n",
    "merge_sort_min_size(A, min_size)\n",
    "\n",
    "\n",
    "I timed the use of merge_sort_min_size(A, min_size) with\n",
    "arr = [33, 1, 55, 2343, -232, 344, 2, 53, -4, 923]\n",
    "min_size = 4\n",
    "\n",
    "The output was:\n",
    "16.6 µs ± 929 ns per loop (mean ± std. dev. of 7 runs, 100000 loops each)\n",
    "\n",
    "'''\n",
    "\n",
    "def merge_sort_min_size(A, min_size):\n",
    "    n = len(A)\n",
    "    \n",
    "    if n >= min_size:\n",
    "        m = n // 2\n",
    "        left = merge_sort(A[:m])\n",
    "        right = merge_sort(A[m:])\n",
    "        return merge(left, right) #the merge function is above\n",
    "    \n",
    "    elif n > 1 and n < min_size:\n",
    "        return selection_sort(A)\n",
    "    \n",
    "    else:\n",
    "        return A\n",
    "    \n",
    "#merge_sort_min_size([33, 1, 55, 2343, -232, 344, 2, 53, -4, 923], 4)\n",
    "%timeit merge_sort_min_size([33, 1, 55, 2343, -232, 344, 2, 53, -4, 923], 4)"
   ]
  },
  {
   "cell_type": "code",
   "execution_count": 4,
   "metadata": {},
   "outputs": [
    {
     "data": {
      "text/plain": [
       "'\\nPART IV.\\n\\nFor the input:\\nA = [33, 1, 55, 2343, -232, 344, 2, 53, -4, 923]\\n\\nThe outputs were:\\n12.3 µs ± 830 ns per loop for the selection_sort() function\\n\\n17.7 µs ± 2.38 µs per loop (mean ± std. dev. of 7 runs, 100000 loops each) \\n\\n16.6 µs ± 929 ns per loop for the hybrid merge_sort_min_size() function\\n\\nIt is clear that for an array of len 10,\\nthe selection_sort function was much faster\\nthan the merge_sort option. This supports the idea \\nthan linear algorithms are faster than divide and conquer\\nalogorithm for arrays with small lengths.\\n\\nThe hybrid merge_sort_min_size() was\\nmore efficient than merge_sort().\\nAgain, given the small length of the array used,\\nthis makes sense.\\n\\nFood for thought:\\nwith a better computer, it would be\\ninteresting to run these algorithms\\nwith much larger arrays to test at what point\\nthe hybrid merge_sort_min_size()\\nis surpassed in efficiency by merge_sort()\\n\\n'"
      ]
     },
     "execution_count": 4,
     "metadata": {},
     "output_type": "execute_result"
    }
   ],
   "source": [
    "'''\n",
    "PART IV.\n",
    "\n",
    "For the input:\n",
    "A = [33, 1, 55, 2343, -232, 344, 2, 53, -4, 923]\n",
    "\n",
    "The outputs were:\n",
    "12.3 µs ± 830 ns per loop for the selection_sort() function\n",
    "\n",
    "17.7 µs ± 2.38 µs per loop (mean ± std. dev. of 7 runs, 100000 loops each) \n",
    "\n",
    "16.6 µs ± 929 ns per loop for the hybrid merge_sort_min_size() function\n",
    "\n",
    "It is clear that for an array of len 10,\n",
    "the selection_sort function was much faster\n",
    "than the merge_sort option. This supports the idea \n",
    "than linear algorithms are faster than divide and conquer\n",
    "alogorithm for arrays with small lengths.\n",
    "\n",
    "The hybrid merge_sort_min_size() was\n",
    "more efficient than merge_sort().\n",
    "Again, given the small length of the array used,\n",
    "this makes sense.\n",
    "\n",
    "Food for thought:\n",
    "with a better computer, it would be\n",
    "interesting to run these algorithms\n",
    "with much larger arrays to test at what point\n",
    "the hybrid merge_sort_min_size()\n",
    "is surpassed in efficiency by merge_sort()\n",
    "\n",
    "'''"
   ]
  },
  {
   "cell_type": "markdown",
   "metadata": {
    "colab": {},
    "colab_type": "code",
    "id": "_xlEp7VWWkLL"
   },
   "source": [
    "# Exercise 2. \n",
    "\n",
    "Let $A[1...n]$ be an array of $n$ distinct numbers. If $i < j$ and $A[i] > A[j]$, then the pair $(i, j)$ is called an **inversion** of $A$. \n",
    "\n",
    "In other words an inversion is a pair of unsorted elements in an array.\n",
    "\n",
    "**1)** List the five inversions of $[2, 3, 8, 6, 1]$ \n",
    "\n",
    "**2)** Give an algorithm that determines the number of inversions in any permutation on $n$ elements in $O(nlog_2(n))$ worst-case time. (Hint: Modify merge sort.)"
   ]
  },
  {
   "cell_type": "code",
   "execution_count": null,
   "metadata": {},
   "outputs": [],
   "source": [
    "'''Exercise 2.1\n",
    "the five inversions of [2,3,8,6,1] are:\n",
    "(8,6)\n",
    "(8,1)\n",
    "(6,1)\n",
    "(3,1)\n",
    "(2,1)\n",
    "\n",
    "'''"
   ]
  },
  {
   "cell_type": "code",
   "execution_count": null,
   "metadata": {},
   "outputs": [],
   "source": [
    "'''Exercise 2.2\n",
    "An algorithm that determines\n",
    "the number of inversions in any permutation\n",
    "on  𝑛  elements in  𝑂(𝑛𝑙𝑜𝑔2(𝑛)) worst-case time.\n",
    "Hint: Modify merge_sort.\n",
    "'''\n",
    "\n"
   ]
  },
  {
   "cell_type": "code",
   "execution_count": 27,
   "metadata": {},
   "outputs": [
    {
     "data": {
      "text/plain": [
       "5"
      ]
     },
     "execution_count": 27,
     "metadata": {},
     "output_type": "execute_result"
    }
   ],
   "source": [
    "'''\n",
    "    See further below for my answer, this part is for my info only\n",
    "    \n",
    "    This function does the job,\n",
    "    but it is Big O(n**2)\n",
    "    \n",
    "    It works by incrementing the inv_count\n",
    "    every time the value at index on the left, aka arr[i]\n",
    "    is bigger that the value at index on the right, aka arr[j]\n",
    "    \n",
    "'''\n",
    " \n",
    "def merge_sort_count1(arr):\n",
    "    \n",
    "    n = len(arr)\n",
    "    inv_count = 0\n",
    "    for i in range(n):\n",
    "        for j in range(i + 1, n):\n",
    "            if (arr[i] > arr[j]):\n",
    "                inv_count += 1\n",
    " \n",
    "    return inv_count\n",
    " \n",
    "merge_sort_count1([2,3,8,6,1])"
   ]
  },
  {
   "cell_type": "code",
   "execution_count": null,
   "metadata": {},
   "outputs": [],
   "source": [
    "'''\n",
    "Resources: \n",
    "\n",
    "https://www.khanacademy.org/computing/computer-science/algorithms/merge-sort/a/overview-of-merge-sort\n",
    "explained using pseudocode + java\n",
    "\n",
    "\n",
    "https://www.youtube.com/watch?v=owZhw-A0yWE\n",
    "video explaining interaction of merge_sort and merge\n",
    "\n",
    "https://medium.com/@ssbothwell/counting-inversions-with-merge-sort-4d9910dc95f0\n",
    "python code: the use of ai, bi, to be able to use in inversions count formula\n",
    "\n",
    "'''"
   ]
  },
  {
   "cell_type": "code",
   "execution_count": 26,
   "metadata": {},
   "outputs": [
    {
     "data": {
      "text/plain": [
       "([1, 2, 3, 6, 8], 5)"
      ]
     },
     "execution_count": 26,
     "metadata": {},
     "output_type": "execute_result"
    }
   ],
   "source": [
    "def merge_sort_count(arr):\n",
    "    n = len(arr)\n",
    "    \n",
    "    # base case\n",
    "    if n <= 1:\n",
    "        return arr, 0\n",
    "    \n",
    "    else:\n",
    "        m = n // 2        \n",
    "        left = arr[:m]\n",
    "        right = arr[m:]\n",
    "        \n",
    "        #ai keeps track of left inversions\n",
    "        left, ai = merge_sort_count(left)\n",
    "        #bi keeps track of right inversions\n",
    "        right, bi = merge_sort_count(right)\n",
    "        sorted_array = []\n",
    "           \n",
    "        #setting the index pointers at zero\n",
    "        i = 0\n",
    "        j = 0\n",
    "        \n",
    "        # inversions count formula\n",
    "        inversions = 0 + ai + bi\n",
    "        \n",
    "    while i < len(left) and j < len(right):\n",
    "        if left[i] <= right[j]:\n",
    "            sorted_array.append(left[i])\n",
    "            i += 1\n",
    "        else:\n",
    "            sorted_array.append(right[j])\n",
    "            j += 1\n",
    "            inversions += (len(left)-i)\n",
    "    \n",
    "    sorted_array += left[i:]\n",
    "    sorted_array += right[j:]\n",
    "    \n",
    "    # returns the sorted array, final inversions count\n",
    "    return sorted_array, inversions\n",
    "\n",
    "merge_sort_count([2,3,8,6,1])"
   ]
  },
  {
   "cell_type": "markdown",
   "metadata": {
    "colab": {},
    "colab_type": "code",
    "id": "7DHNJtvOUkgo"
   },
   "source": [
    "# 3. Recursive sum\n",
    "\n",
    "Write a function that uses recursion to compute the sum of an array or list of numbers\n",
    "\n",
    "```\n",
    "recursive_sum([2, 4, 5, 6, 7])\n",
    "\n",
    "output: 24\n",
    "```"
   ]
  },
  {
   "cell_type": "code",
   "execution_count": 5,
   "metadata": {},
   "outputs": [
    {
     "data": {
      "text/plain": [
       "24"
      ]
     },
     "execution_count": 5,
     "metadata": {},
     "output_type": "execute_result"
    }
   ],
   "source": [
    "'''\n",
    "A recursive funtion \n",
    "to sum an array or list of numbers\n",
    "\n",
    "'''\n",
    "def recursive_sum(list_num):\n",
    "    #base case\n",
    "    if len(list_num) == 1:\n",
    "        return list_num[0]\n",
    "    \n",
    "    else:\n",
    "        return (list_num[0] + recursive_sum(list_num[1:]))\n",
    "        \n",
    "\n",
    "recursive_sum([2, 4, 5, 6, 7]) # output should be 24"
   ]
  },
  {
   "cell_type": "markdown",
   "metadata": {},
   "source": [
    "# 4. Recursive denominators\n",
    "\n",
    "Write a Python program that uses recursion to find the greatest common divisor (gcd) of two integers.\n",
    "\n",
    "```\n",
    "recursive_gcd(12,14)\n",
    "\n",
    "output : 2\n",
    "```"
   ]
  },
  {
   "cell_type": "code",
   "execution_count": 4,
   "metadata": {},
   "outputs": [
    {
     "data": {
      "text/plain": [
       "2"
      ]
     },
     "execution_count": 4,
     "metadata": {},
     "output_type": "execute_result"
    }
   ],
   "source": [
    "'''\n",
    "A recursive function to find the gcd\n",
    "of two integers\n",
    "\n",
    "'''\n",
    "\n",
    "def recursive_gcd(x, y):\n",
    "    # base case\n",
    "    if y == 0:\n",
    "        return x\n",
    "    else:\n",
    "        return recursive_gcd(y, x%y)\n",
    "    \n",
    "recursive_gcd(12, 14) # output should be 2"
   ]
  },
  {
   "cell_type": "markdown",
   "metadata": {},
   "source": [
    "# 5. Recursive power function\n",
    "\n",
    "Write a recursive function to calculate the value of 'a' to the power 'b'. \n",
    "\n",
    "```\n",
    "recursive_pow(3, 4)\n",
    "\n",
    "output: 81\n",
    "```"
   ]
  },
  {
   "cell_type": "code",
   "execution_count": 2,
   "metadata": {},
   "outputs": [
    {
     "data": {
      "text/plain": [
       "81"
      ]
     },
     "execution_count": 2,
     "metadata": {},
     "output_type": "execute_result"
    }
   ],
   "source": [
    "'''\n",
    "A recursive function to calculate\n",
    "\"a\" to the power of positive \"b\"\n",
    "'''\n",
    "\n",
    "def recursive_pow(a, b):\n",
    "    # base case\n",
    "    if b == 0:\n",
    "        return 1\n",
    "    # base case\n",
    "    if b == 1:\n",
    "        return a\n",
    "    \n",
    "    else:\n",
    "        return a * recursive_pow(a, b-1)\n",
    "\n",
    "recursive_pow(3, 4) # output should be 81"
   ]
  },
  {
   "cell_type": "markdown",
   "metadata": {},
   "source": [
    "# 6. (Stretch) K-Nearest Neighbours\n",
    "\n",
    "Consider a matrix with the following format:\n",
    "\n",
    "```\n",
    "[[0.3, 0.8],\n",
    " [-0.2, 0.5],\n",
    " [1, -1],\n",
    " [0.9, 0.5]\n",
    "]\n",
    "```\n",
    "\n",
    "Each row denotes a point, and the numbers in each row are the coordinates. The coordinates in this example are in 2d, but the matrix could be in 3d (3 numbers per row) or even higher dimensions.\n",
    "\n",
    "Your task is to write a function `knn(m, p)` or `k_nearest_neighbors(m, p, k)` which takes in a matrix of points `m`, an integer `p` denoting the index of a point in that matrix, and an intger `k` denoting the number of nearest neighbors to return.\n",
    "\n",
    "The function returns the index of the `k` nearest neighbors of the point `p` in the matrix `m`.\n",
    "\n",
    "```\n",
    "dataset = [[2.7810836,2.550537003,0],\n",
    "\t[1.465489372,2.362125076,0],\n",
    "\t[3.396561688,4.400293529,0],\n",
    "\t[1.38807019,1.850220317,0],\n",
    "\t[3.06407232,3.005305973,0],\n",
    "\t[7.627531214,2.759262235,1],\n",
    "\t[5.332441248,2.088626775,1],\n",
    "\t[6.922596716,1.77106367,1],\n",
    "\t[8.675418651,-0.242068655,1],\n",
    "\t[7.673756466,3.508563011,1]]\n",
    "\n",
    "knn(dataset, 0, 2)\n",
    "\n",
    "output : [4, 1]\n",
    "```\n",
    "\n",
    "You can use `from sklearn.neighbors import NearestNeighbors` to test your function"
   ]
  },
  {
   "cell_type": "code",
   "execution_count": null,
   "metadata": {},
   "outputs": [],
   "source": []
  }
 ],
 "metadata": {
  "colab": {
   "authorship_tag": "ABX9TyNlxxWG+wkjGmf/FynU0Azv",
   "collapsed_sections": [],
   "name": "Workshop: Recursive && Divide and conquer.ipynb",
   "provenance": []
  },
  "kernelspec": {
   "display_name": "Python 3",
   "language": "python",
   "name": "python3"
  },
  "language_info": {
   "codemirror_mode": {
    "name": "ipython",
    "version": 3
   },
   "file_extension": ".py",
   "mimetype": "text/x-python",
   "name": "python",
   "nbconvert_exporter": "python",
   "pygments_lexer": "ipython3",
   "version": "3.8.3"
  }
 },
 "nbformat": 4,
 "nbformat_minor": 1
}
