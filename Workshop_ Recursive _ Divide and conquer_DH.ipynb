{
 "cells": [
  {
   "cell_type": "markdown",
   "metadata": {},
   "source": [
    "Dylan Hastings"
   ]
  },
  {
   "cell_type": "markdown",
   "metadata": {
    "colab_type": "text",
    "id": "Bj-Gi0QlUfyL"
   },
   "source": [
    "# Exercise 1.\n",
    "\n",
    "Although merge sort has a better Big-O than selection sort, selection sort can be faster for smaller inputs.\n",
    "\n",
    "Rewrite `merge_sort(A, min_size)` such that sub-arrays smaller than an input parameter `min_size` are sorted with our `selection_sort` from the lecture `algorithms intro`."
   ]
  },
  {
   "cell_type": "code",
   "execution_count": 23,
   "metadata": {},
   "outputs": [],
   "source": [
    "def linear_search(arr):\n",
    "  \"\"\"\n",
    "  Find the index of the minimum element\n",
    "  AKA argsort\n",
    "  \"\"\"\n",
    "  # initialize current best to +infinity\n",
    "  # So any element beats it\n",
    "  current_min = float('inf')\n",
    "  current_min_idx = 0\n",
    "  for i in range(len(arr)):\n",
    "    if arr[i] < current_min:\n",
    "      current_min = arr[i]\n",
    "      current_min_idx = i\n",
    "  return current_min_idx"
   ]
  },
  {
   "cell_type": "code",
   "execution_count": 24,
   "metadata": {},
   "outputs": [],
   "source": [
    "def selection_sort(arr):\n",
    "  \"\"\"Selection sort\"\"\"\n",
    "  n_sorted = 0\n",
    "  while n_sorted < len(arr):\n",
    "    # Get the index of the min of remaining elements\n",
    "    # Since argsort returns based on array, we correct result\n",
    "    # with `+ n_sorted`\n",
    "    min_idx = linear_search(arr[n_sorted:]) + n_sorted\n",
    "    # Swap minimum element with leftmost remaining element\n",
    "    to_swap = arr[n_sorted]\n",
    "    arr[n_sorted] = arr[min_idx]\n",
    "    arr[min_idx] = to_swap\n",
    "    # Increment and restart\n",
    "    n_sorted += 1"
   ]
  },
  {
   "cell_type": "code",
   "execution_count": 25,
   "metadata": {},
   "outputs": [],
   "source": [
    "def merge(left, right):\n",
    "  res = []\n",
    "  # Zip in together left and right parts\n",
    "  while len(left)>0 and len(right)>0: \n",
    "      if left[0]<right[0]: \n",
    "          res.append(left[0]) \n",
    "          left.pop(0)\n",
    "      else: \n",
    "          res.append(right[0]) \n",
    "          right.pop(0)\n",
    "  # Copy in remaining elements of left and right\n",
    "  # (if there are any)\n",
    "  for i in left: \n",
    "      res.append(i) \n",
    "  for i in right: \n",
    "      res.append(i)\n",
    "  return res"
   ]
  },
  {
   "cell_type": "code",
   "execution_count": 26,
   "metadata": {},
   "outputs": [],
   "source": [
    "def merge_sort(A): \n",
    "    size = len(A)\n",
    "    if size > 1:\n",
    "      m = size // 2\n",
    "      left = merge_sort(A[m:]) \n",
    "      right = merge_sort(A[:m])\n",
    "      return merge(left, right)\n",
    "    else:\n",
    "      return A"
   ]
  },
  {
   "cell_type": "code",
   "execution_count": 27,
   "metadata": {},
   "outputs": [],
   "source": [
    "def hybrid(A, min_size):\n",
    "    '''\n",
    "    This function uses merge_sort if the sub-array size is greater\n",
    "    than min_size.  Othwerwise, it uses selection_sort.\n",
    "    '''\n",
    "    size = len(A)\n",
    "    \n",
    "    if size > min_size: #merge_sort is used\n",
    "      m = size // 2\n",
    "      left = merge_sort(A[m:]) \n",
    "      right = merge_sort(A[:m])\n",
    "      return merge(left, right)\n",
    "    \n",
    "    elif min_size > size and size > 1: #selection_sort is used\n",
    "        selection_sort(A)\n",
    "    \n",
    "    else:\n",
    "      return A"
   ]
  },
  {
   "cell_type": "markdown",
   "metadata": {},
   "source": [
    "Checks:"
   ]
  },
  {
   "cell_type": "code",
   "execution_count": 28,
   "metadata": {},
   "outputs": [
    {
     "data": {
      "text/plain": [
       "[-232, -4, 1, 2, 33, 53, 55, 344, 923, 2343]"
      ]
     },
     "execution_count": 28,
     "metadata": {},
     "output_type": "execute_result"
    }
   ],
   "source": [
    "hybrid([33, 1, 55, 2343, -232, 344, 2, 53, -4, 923], 2)"
   ]
  },
  {
   "cell_type": "markdown",
   "metadata": {},
   "source": [
    "Time the difference between pure merge sort and this new algorithm. Is it faster? Why or why not?"
   ]
  },
  {
   "cell_type": "code",
   "execution_count": 32,
   "metadata": {},
   "outputs": [],
   "source": [
    "import random\n",
    "test_list = list(range(0, 1000))\n",
    "random.shuffle(test_list)"
   ]
  },
  {
   "cell_type": "code",
   "execution_count": 33,
   "metadata": {},
   "outputs": [
    {
     "name": "stdout",
     "output_type": "stream",
     "text": [
      "7.8 ms ± 1.12 ms per loop (mean ± std. dev. of 7 runs, 100 loops each)\n"
     ]
    }
   ],
   "source": [
    "%timeit merge_sort(test_list)"
   ]
  },
  {
   "cell_type": "code",
   "execution_count": 37,
   "metadata": {},
   "outputs": [
    {
     "name": "stdout",
     "output_type": "stream",
     "text": [
      "5.48 ms ± 365 µs per loop (mean ± std. dev. of 7 runs, 100 loops each)\n"
     ]
    }
   ],
   "source": [
    "%timeit hybrid(test_list, 10)"
   ]
  },
  {
   "cell_type": "markdown",
   "metadata": {},
   "source": [
    "Although merge_sort is O(nlogn) versus selection_sort (O(n^2)), merge_sort is slower for smaller lists because of the overhead involved in splitting and merging the lists."
   ]
  },
  {
   "cell_type": "markdown",
   "metadata": {
    "colab": {},
    "colab_type": "code",
    "id": "_xlEp7VWWkLL"
   },
   "source": [
    "# Exercise 2. \n",
    "\n",
    "Let $A[1...n]$ be an array of $n$ distinct numbers. If $i < j$ and $A[i] > A[j]$, then the pair $(i, j)$ is called an **inversion** of $A$. \n",
    "\n",
    "In other words an inversion is a pair of unsorted elements in an array.\n",
    "\n",
    "**1)** List the five inversions of $[2, 3, 8, 6, 1]$ "
   ]
  },
  {
   "cell_type": "markdown",
   "metadata": {},
   "source": [
    "(8,6) , (6,1) , (2,1) , (3,1) , (8,1)"
   ]
  },
  {
   "cell_type": "markdown",
   "metadata": {},
   "source": [
    "**2)** Give an algorithm that determines the number of inversions in any permutation on $n$ elements in $O(nlog_2(n))$ worst-case time. (Hint: Modify merge sort.)"
   ]
  },
  {
   "cell_type": "code",
   "execution_count": 91,
   "metadata": {},
   "outputs": [],
   "source": [
    "def merge(left, right, c=[]):\n",
    "  res = []\n",
    "  # Zip in together left and right parts\n",
    "  while len(left)>0 and len(right)>0: \n",
    "      if left[0]<right[0]: \n",
    "          res.append(left[0]) \n",
    "          left.pop(0)\n",
    "      else: \n",
    "          res.append(right[0])\n",
    "          for e in left:\n",
    "              c.append((e, right[0]))\n",
    "          right.pop(0)\n",
    "  # Copy in remaining elements of left and right\n",
    "  # (if there are any)\n",
    "  for i in left: \n",
    "      res.append(i) \n",
    "  for i in right: \n",
    "      res.append(i)\n",
    "  return res, c"
   ]
  },
  {
   "cell_type": "code",
   "execution_count": 92,
   "metadata": {},
   "outputs": [],
   "source": [
    "def merge_sort(A):\n",
    "    size = len(A)\n",
    "    if size > 1:\n",
    "      m = size // 2\n",
    "      left, c_left = merge_sort(A[:m]) \n",
    "      right, c_right = merge_sort(A[m:])\n",
    "      return merge(left, right, c_left+c_right)\n",
    "    else:\n",
    "      return A, []"
   ]
  },
  {
   "cell_type": "code",
   "execution_count": 101,
   "metadata": {},
   "outputs": [],
   "source": [
    "def inversions(A):\n",
    "    lst, inv = merge_sort(A)\n",
    "    return inv, len(inv)"
   ]
  },
  {
   "cell_type": "code",
   "execution_count": 102,
   "metadata": {},
   "outputs": [
    {
     "data": {
      "text/plain": [
       "([(6, 1), (8, 1), (8, 6), (2, 1), (3, 1)], 5)"
      ]
     },
     "execution_count": 102,
     "metadata": {},
     "output_type": "execute_result"
    }
   ],
   "source": [
    "inversions([2,3,8,6,1])"
   ]
  },
  {
   "cell_type": "markdown",
   "metadata": {
    "colab": {},
    "colab_type": "code",
    "id": "7DHNJtvOUkgo"
   },
   "source": [
    "# 3. Recursive sum\n",
    "\n",
    "Write a function that uses recursion to compute the sum of an array or list of numbers\n",
    "\n",
    "```\n",
    "recursive_sum([2, 4, 5, 6, 7])\n",
    "\n",
    "output: 24\n",
    "```"
   ]
  },
  {
   "cell_type": "code",
   "execution_count": 13,
   "metadata": {},
   "outputs": [],
   "source": [
    "def recursive_sum(lst):\n",
    "    '''\n",
    "    This function uses recursion to compute the sum of an array\n",
    "    or list of numbers.\n",
    "    '''\n",
    "    if len(lst) == 1:\n",
    "        return lst[0]\n",
    "    else:\n",
    "        return lst.pop() + recursive_sum(lst)"
   ]
  },
  {
   "cell_type": "markdown",
   "metadata": {},
   "source": [
    "Checks:"
   ]
  },
  {
   "cell_type": "code",
   "execution_count": 19,
   "metadata": {},
   "outputs": [
    {
     "data": {
      "text/plain": [
       "24"
      ]
     },
     "execution_count": 19,
     "metadata": {},
     "output_type": "execute_result"
    }
   ],
   "source": [
    "recursive_sum([2, 4, 5, 6, 7])"
   ]
  },
  {
   "cell_type": "markdown",
   "metadata": {},
   "source": [
    "# 4. Recursive denominators\n",
    "\n",
    "Write a Python program that uses recursion to find the greatest common divisor (gcd) of two integers.\n",
    "\n",
    "```\n",
    "recursive_gcd(12,14)\n",
    "\n",
    "output : 2\n",
    "```"
   ]
  },
  {
   "cell_type": "code",
   "execution_count": 126,
   "metadata": {},
   "outputs": [],
   "source": [
    "def recursive_gcd(a, b):\n",
    "    '''\n",
    "    This function uses recursion to find the greatest\n",
    "    common divisor (gcd) of 2 integers.\n",
    "    '''    \n",
    "    if b==0:\n",
    "        return a\n",
    "    else:\n",
    "        return recursive_gcd(b, a % b)"
   ]
  },
  {
   "cell_type": "code",
   "execution_count": 130,
   "metadata": {},
   "outputs": [
    {
     "data": {
      "text/plain": [
       "3"
      ]
     },
     "execution_count": 130,
     "metadata": {},
     "output_type": "execute_result"
    }
   ],
   "source": [
    "recursive_gcd(15,6)"
   ]
  },
  {
   "cell_type": "markdown",
   "metadata": {},
   "source": [
    "# 5. Recursive power function\n",
    "\n",
    "Write a recursive function to calculate the value of 'a' to the power 'b'. \n",
    "\n",
    "```\n",
    "recursive_pow(3, 4)\n",
    "\n",
    "output: 81\n",
    "```"
   ]
  },
  {
   "cell_type": "code",
   "execution_count": 45,
   "metadata": {},
   "outputs": [],
   "source": [
    "def recursive_pow(a, b):\n",
    "    '''\n",
    "    This function uses recursion to compute the value\n",
    "    of 'a' to the power 'b'.\n",
    "    '''\n",
    "    if b==0:\n",
    "        return 1\n",
    "    if b==1:\n",
    "        return a\n",
    "    else:\n",
    "        return a * recursive_pow(a, b-1)"
   ]
  },
  {
   "cell_type": "markdown",
   "metadata": {},
   "source": [
    "Checks:"
   ]
  },
  {
   "cell_type": "code",
   "execution_count": 46,
   "metadata": {},
   "outputs": [
    {
     "data": {
      "text/plain": [
       "81"
      ]
     },
     "execution_count": 46,
     "metadata": {},
     "output_type": "execute_result"
    }
   ],
   "source": [
    "recursive_pow(3, 4)"
   ]
  },
  {
   "cell_type": "markdown",
   "metadata": {},
   "source": [
    "# 6. (Stretch) K-Nearest Neighbours\n",
    "\n",
    "Consider a matrix with the following format:\n",
    "\n",
    "```\n",
    "[[0.3, 0.8],\n",
    " [-0.2, 0.5],\n",
    " [1, -1],\n",
    " [0.9, 0.5]\n",
    "]\n",
    "```\n",
    "\n",
    "Each row denotes a point, and the numbers in each row are the coordinates. The coordinates in this example are in 2d, but the matrix could be in 3d (3 numbers per row) or even higher dimensions.\n",
    "\n",
    "Your task is to write a function `knn(m, p)` or `k_nearest_neighbors(m, p, k)` which takes in a matrix of points `m`, an integer `p` denoting the index of a point in that matrix, and an intger `k` denoting the number of nearest neighbors to return.\n",
    "\n",
    "The function returns the index of the `k` nearest neighbors of the point `p` in the matrix `m`.\n",
    "\n",
    "```\n",
    "dataset = [[2.7810836,2.550537003,0],\n",
    "\t[1.465489372,2.362125076,0],\n",
    "\t[3.396561688,4.400293529,0],\n",
    "\t[1.38807019,1.850220317,0],\n",
    "\t[3.06407232,3.005305973,0],\n",
    "\t[7.627531214,2.759262235,1],\n",
    "\t[5.332441248,2.088626775,1],\n",
    "\t[6.922596716,1.77106367,1],\n",
    "\t[8.675418651,-0.242068655,1],\n",
    "\t[7.673756466,3.508563011,1]]\n",
    "\n",
    "knn(dataset, 0, 2)\n",
    "\n",
    "output : [4, 1]\n",
    "```\n",
    "\n",
    "You can use `from sklearn.neighbors import NearestNeighbors` to test your function"
   ]
  },
  {
   "cell_type": "code",
   "execution_count": null,
   "metadata": {},
   "outputs": [],
   "source": []
  }
 ],
 "metadata": {
  "colab": {
   "authorship_tag": "ABX9TyNlxxWG+wkjGmf/FynU0Azv",
   "collapsed_sections": [],
   "name": "Workshop: Recursive && Divide and conquer.ipynb",
   "provenance": []
  },
  "kernelspec": {
   "display_name": "Python 3",
   "language": "python",
   "name": "python3"
  },
  "language_info": {
   "codemirror_mode": {
    "name": "ipython",
    "version": 3
   },
   "file_extension": ".py",
   "mimetype": "text/x-python",
   "name": "python",
   "nbconvert_exporter": "python",
   "pygments_lexer": "ipython3",
   "version": "3.8.3"
  }
 },
 "nbformat": 4,
 "nbformat_minor": 1
}
